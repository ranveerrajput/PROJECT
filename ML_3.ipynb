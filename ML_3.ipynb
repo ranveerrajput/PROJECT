{
 "cells": [
  {
   "cell_type": "code",
   "execution_count": 10,
   "metadata": {
    "colab": {},
    "colab_type": "code",
    "id": "4rjJOsOcGKD7"
   },
   "outputs": [],
   "source": [
    "import pandas as pd\n",
    "import numpy as np\n",
    "import matplotlib.pyplot as plt\n",
    "import seaborn as sns\n",
    "from sklearn import svm\n",
    "from sklearn.metrics import accuracy_score,confusion_matrix,classification_report"
   ]
  },
  {
   "cell_type": "code",
   "execution_count": 11,
   "metadata": {
    "colab": {
     "base_uri": "https://localhost:8080/",
     "height": 136
    },
    "colab_type": "code",
    "id": "AYP6X6HfGZfg",
    "outputId": "89580492-548a-4a77-b836-56cbb258d7d7"
   },
   "outputs": [
    {
     "data": {
      "text/html": [
       "<div>\n",
       "<style scoped>\n",
       "    .dataframe tbody tr th:only-of-type {\n",
       "        vertical-align: middle;\n",
       "    }\n",
       "\n",
       "    .dataframe tbody tr th {\n",
       "        vertical-align: top;\n",
       "    }\n",
       "\n",
       "    .dataframe thead th {\n",
       "        text-align: right;\n",
       "    }\n",
       "</style>\n",
       "<table border=\"1\" class=\"dataframe\">\n",
       "  <thead>\n",
       "    <tr style=\"text-align: right;\">\n",
       "      <th></th>\n",
       "      <th>Unnamed: 0</th>\n",
       "      <th>fLength</th>\n",
       "      <th>fWidth</th>\n",
       "      <th>fSize</th>\n",
       "      <th>fConc</th>\n",
       "      <th>fConc1</th>\n",
       "      <th>fAsym</th>\n",
       "      <th>fM3Long</th>\n",
       "      <th>fM3Trans</th>\n",
       "      <th>fAlpha</th>\n",
       "      <th>fDist</th>\n",
       "      <th>class</th>\n",
       "    </tr>\n",
       "  </thead>\n",
       "  <tbody>\n",
       "    <tr>\n",
       "      <th>0</th>\n",
       "      <td>0</td>\n",
       "      <td>28.7967</td>\n",
       "      <td>16.0021</td>\n",
       "      <td>2.6449</td>\n",
       "      <td>0.3918</td>\n",
       "      <td>0.1982</td>\n",
       "      <td>27.7004</td>\n",
       "      <td>22.0110</td>\n",
       "      <td>-8.2027</td>\n",
       "      <td>40.0920</td>\n",
       "      <td>81.8828</td>\n",
       "      <td>g</td>\n",
       "    </tr>\n",
       "    <tr>\n",
       "      <th>1</th>\n",
       "      <td>1</td>\n",
       "      <td>31.6036</td>\n",
       "      <td>11.7235</td>\n",
       "      <td>2.5185</td>\n",
       "      <td>0.5303</td>\n",
       "      <td>0.3773</td>\n",
       "      <td>26.2722</td>\n",
       "      <td>23.8238</td>\n",
       "      <td>-9.9574</td>\n",
       "      <td>6.3609</td>\n",
       "      <td>205.2610</td>\n",
       "      <td>g</td>\n",
       "    </tr>\n",
       "    <tr>\n",
       "      <th>2</th>\n",
       "      <td>2</td>\n",
       "      <td>162.0520</td>\n",
       "      <td>136.0310</td>\n",
       "      <td>4.0612</td>\n",
       "      <td>0.0374</td>\n",
       "      <td>0.0187</td>\n",
       "      <td>116.7410</td>\n",
       "      <td>-64.8580</td>\n",
       "      <td>-45.2160</td>\n",
       "      <td>76.9600</td>\n",
       "      <td>256.7880</td>\n",
       "      <td>g</td>\n",
       "    </tr>\n",
       "  </tbody>\n",
       "</table>\n",
       "</div>"
      ],
      "text/plain": [
       "   Unnamed: 0   fLength    fWidth   fSize   fConc  fConc1     fAsym  fM3Long  \\\n",
       "0           0   28.7967   16.0021  2.6449  0.3918  0.1982   27.7004  22.0110   \n",
       "1           1   31.6036   11.7235  2.5185  0.5303  0.3773   26.2722  23.8238   \n",
       "2           2  162.0520  136.0310  4.0612  0.0374  0.0187  116.7410 -64.8580   \n",
       "\n",
       "   fM3Trans   fAlpha     fDist class  \n",
       "0   -8.2027  40.0920   81.8828     g  \n",
       "1   -9.9574   6.3609  205.2610     g  \n",
       "2  -45.2160  76.9600  256.7880     g  "
      ]
     },
     "execution_count": 11,
     "metadata": {},
     "output_type": "execute_result"
    }
   ],
   "source": [
    "df = pd.read_csv('ML_3.csv')\n",
    "df.head(3)"
   ]
  },
  {
   "cell_type": "code",
   "execution_count": 12,
   "metadata": {
    "colab": {
     "base_uri": "https://localhost:8080/",
     "height": 70
    },
    "colab_type": "code",
    "id": "I-nyFoaH5f5G",
    "outputId": "3efe350a-e736-410a-8512-0bc6cddc7692"
   },
   "outputs": [
    {
     "data": {
      "text/plain": [
       "Index(['Unnamed: 0', 'fLength', 'fWidth', 'fSize', 'fConc', 'fConc1', 'fAsym',\n",
       "       'fM3Long', 'fM3Trans', 'fAlpha', 'fDist', 'class'],\n",
       "      dtype='object')"
      ]
     },
     "execution_count": 12,
     "metadata": {},
     "output_type": "execute_result"
    }
   ],
   "source": [
    "df.keys()"
   ]
  },
  {
   "cell_type": "code",
   "execution_count": 13,
   "metadata": {
    "colab": {
     "base_uri": "https://localhost:8080/",
     "height": 351
    },
    "colab_type": "code",
    "id": "fjBu6yWn5Itm",
    "outputId": "74c0e2de-8c8a-48b0-9fc4-b8c6e30da2c3"
   },
   "outputs": [
    {
     "name": "stdout",
     "output_type": "stream",
     "text": [
      "<class 'pandas.core.frame.DataFrame'>\n",
      "RangeIndex: 19020 entries, 0 to 19019\n",
      "Data columns (total 12 columns):\n",
      "Unnamed: 0    19020 non-null int64\n",
      "fLength       19020 non-null float64\n",
      "fWidth        19020 non-null float64\n",
      "fSize         19020 non-null float64\n",
      "fConc         19020 non-null float64\n",
      "fConc1        19020 non-null float64\n",
      "fAsym         19020 non-null float64\n",
      "fM3Long       19020 non-null float64\n",
      "fM3Trans      19020 non-null float64\n",
      "fAlpha        19020 non-null float64\n",
      "fDist         19020 non-null float64\n",
      "class         19020 non-null object\n",
      "dtypes: float64(10), int64(1), object(1)\n",
      "memory usage: 1.7+ MB\n"
     ]
    }
   ],
   "source": [
    "df.info()"
   ]
  },
  {
   "cell_type": "code",
   "execution_count": 14,
   "metadata": {
    "colab": {
     "base_uri": "https://localhost:8080/",
     "height": 281
    },
    "colab_type": "code",
    "id": "p-Ezp6555SBu",
    "outputId": "2820043e-e5f7-45dc-ac17-2bfd383db7f5"
   },
   "outputs": [
    {
     "data": {
      "text/plain": [
       "Unnamed: 0    0\n",
       "fLength       0\n",
       "fWidth        0\n",
       "fSize         0\n",
       "fConc         0\n",
       "fConc1        0\n",
       "fAsym         0\n",
       "fM3Long       0\n",
       "fM3Trans      0\n",
       "fAlpha        0\n",
       "fDist         0\n",
       "class         0\n",
       "dtype: int64"
      ]
     },
     "execution_count": 14,
     "metadata": {},
     "output_type": "execute_result"
    }
   ],
   "source": [
    "df.isnull().sum()"
   ]
  },
  {
   "cell_type": "code",
   "execution_count": 15,
   "metadata": {
    "colab": {
     "base_uri": "https://localhost:8080/",
     "height": 284
    },
    "colab_type": "code",
    "id": "bATj4FS66VRp",
    "outputId": "64f80d96-1d59-4099-a5f2-c9a61f3dbea8"
   },
   "outputs": [
    {
     "data": {
      "text/html": [
       "<div>\n",
       "<style scoped>\n",
       "    .dataframe tbody tr th:only-of-type {\n",
       "        vertical-align: middle;\n",
       "    }\n",
       "\n",
       "    .dataframe tbody tr th {\n",
       "        vertical-align: top;\n",
       "    }\n",
       "\n",
       "    .dataframe thead th {\n",
       "        text-align: right;\n",
       "    }\n",
       "</style>\n",
       "<table border=\"1\" class=\"dataframe\">\n",
       "  <thead>\n",
       "    <tr style=\"text-align: right;\">\n",
       "      <th></th>\n",
       "      <th>Unnamed: 0</th>\n",
       "      <th>fLength</th>\n",
       "      <th>fWidth</th>\n",
       "      <th>fSize</th>\n",
       "      <th>fConc</th>\n",
       "      <th>fConc1</th>\n",
       "      <th>fAsym</th>\n",
       "      <th>fM3Long</th>\n",
       "      <th>fM3Trans</th>\n",
       "      <th>fAlpha</th>\n",
       "      <th>fDist</th>\n",
       "    </tr>\n",
       "  </thead>\n",
       "  <tbody>\n",
       "    <tr>\n",
       "      <th>count</th>\n",
       "      <td>19020.000000</td>\n",
       "      <td>19020.000000</td>\n",
       "      <td>19020.000000</td>\n",
       "      <td>19020.000000</td>\n",
       "      <td>19020.000000</td>\n",
       "      <td>19020.000000</td>\n",
       "      <td>19020.000000</td>\n",
       "      <td>19020.000000</td>\n",
       "      <td>19020.000000</td>\n",
       "      <td>19020.000000</td>\n",
       "      <td>19020.000000</td>\n",
       "    </tr>\n",
       "    <tr>\n",
       "      <th>mean</th>\n",
       "      <td>9509.500000</td>\n",
       "      <td>53.250154</td>\n",
       "      <td>22.180966</td>\n",
       "      <td>2.825017</td>\n",
       "      <td>0.380327</td>\n",
       "      <td>0.214657</td>\n",
       "      <td>-4.331745</td>\n",
       "      <td>10.545545</td>\n",
       "      <td>0.249726</td>\n",
       "      <td>27.645707</td>\n",
       "      <td>193.818026</td>\n",
       "    </tr>\n",
       "    <tr>\n",
       "      <th>std</th>\n",
       "      <td>5490.745396</td>\n",
       "      <td>42.364855</td>\n",
       "      <td>18.346056</td>\n",
       "      <td>0.472599</td>\n",
       "      <td>0.182813</td>\n",
       "      <td>0.110511</td>\n",
       "      <td>59.206062</td>\n",
       "      <td>51.000118</td>\n",
       "      <td>20.827439</td>\n",
       "      <td>26.103621</td>\n",
       "      <td>74.731787</td>\n",
       "    </tr>\n",
       "    <tr>\n",
       "      <th>min</th>\n",
       "      <td>0.000000</td>\n",
       "      <td>4.283500</td>\n",
       "      <td>0.000000</td>\n",
       "      <td>1.941300</td>\n",
       "      <td>0.013100</td>\n",
       "      <td>0.000300</td>\n",
       "      <td>-457.916100</td>\n",
       "      <td>-331.780000</td>\n",
       "      <td>-205.894700</td>\n",
       "      <td>0.000000</td>\n",
       "      <td>1.282600</td>\n",
       "    </tr>\n",
       "    <tr>\n",
       "      <th>25%</th>\n",
       "      <td>4754.750000</td>\n",
       "      <td>24.336000</td>\n",
       "      <td>11.863800</td>\n",
       "      <td>2.477100</td>\n",
       "      <td>0.235800</td>\n",
       "      <td>0.128475</td>\n",
       "      <td>-20.586550</td>\n",
       "      <td>-12.842775</td>\n",
       "      <td>-10.849375</td>\n",
       "      <td>5.547925</td>\n",
       "      <td>142.492250</td>\n",
       "    </tr>\n",
       "    <tr>\n",
       "      <th>50%</th>\n",
       "      <td>9509.500000</td>\n",
       "      <td>37.147700</td>\n",
       "      <td>17.139900</td>\n",
       "      <td>2.739600</td>\n",
       "      <td>0.354150</td>\n",
       "      <td>0.196500</td>\n",
       "      <td>4.013050</td>\n",
       "      <td>15.314100</td>\n",
       "      <td>0.666200</td>\n",
       "      <td>17.679500</td>\n",
       "      <td>191.851450</td>\n",
       "    </tr>\n",
       "    <tr>\n",
       "      <th>75%</th>\n",
       "      <td>14264.250000</td>\n",
       "      <td>70.122175</td>\n",
       "      <td>24.739475</td>\n",
       "      <td>3.101600</td>\n",
       "      <td>0.503700</td>\n",
       "      <td>0.285225</td>\n",
       "      <td>24.063700</td>\n",
       "      <td>35.837800</td>\n",
       "      <td>10.946425</td>\n",
       "      <td>45.883550</td>\n",
       "      <td>240.563825</td>\n",
       "    </tr>\n",
       "    <tr>\n",
       "      <th>max</th>\n",
       "      <td>19019.000000</td>\n",
       "      <td>334.177000</td>\n",
       "      <td>256.382000</td>\n",
       "      <td>5.323300</td>\n",
       "      <td>0.893000</td>\n",
       "      <td>0.675200</td>\n",
       "      <td>575.240700</td>\n",
       "      <td>238.321000</td>\n",
       "      <td>179.851000</td>\n",
       "      <td>90.000000</td>\n",
       "      <td>495.561000</td>\n",
       "    </tr>\n",
       "  </tbody>\n",
       "</table>\n",
       "</div>"
      ],
      "text/plain": [
       "         Unnamed: 0       fLength        fWidth         fSize         fConc  \\\n",
       "count  19020.000000  19020.000000  19020.000000  19020.000000  19020.000000   \n",
       "mean    9509.500000     53.250154     22.180966      2.825017      0.380327   \n",
       "std     5490.745396     42.364855     18.346056      0.472599      0.182813   \n",
       "min        0.000000      4.283500      0.000000      1.941300      0.013100   \n",
       "25%     4754.750000     24.336000     11.863800      2.477100      0.235800   \n",
       "50%     9509.500000     37.147700     17.139900      2.739600      0.354150   \n",
       "75%    14264.250000     70.122175     24.739475      3.101600      0.503700   \n",
       "max    19019.000000    334.177000    256.382000      5.323300      0.893000   \n",
       "\n",
       "             fConc1         fAsym       fM3Long      fM3Trans        fAlpha  \\\n",
       "count  19020.000000  19020.000000  19020.000000  19020.000000  19020.000000   \n",
       "mean       0.214657     -4.331745     10.545545      0.249726     27.645707   \n",
       "std        0.110511     59.206062     51.000118     20.827439     26.103621   \n",
       "min        0.000300   -457.916100   -331.780000   -205.894700      0.000000   \n",
       "25%        0.128475    -20.586550    -12.842775    -10.849375      5.547925   \n",
       "50%        0.196500      4.013050     15.314100      0.666200     17.679500   \n",
       "75%        0.285225     24.063700     35.837800     10.946425     45.883550   \n",
       "max        0.675200    575.240700    238.321000    179.851000     90.000000   \n",
       "\n",
       "              fDist  \n",
       "count  19020.000000  \n",
       "mean     193.818026  \n",
       "std       74.731787  \n",
       "min        1.282600  \n",
       "25%      142.492250  \n",
       "50%      191.851450  \n",
       "75%      240.563825  \n",
       "max      495.561000  "
      ]
     },
     "execution_count": 15,
     "metadata": {},
     "output_type": "execute_result"
    }
   ],
   "source": [
    "df.describe()"
   ]
  },
  {
   "cell_type": "code",
   "execution_count": 16,
   "metadata": {
    "colab": {},
    "colab_type": "code",
    "id": "DFoY5d-xGwji"
   },
   "outputs": [],
   "source": [
    "X= df.drop('class',axis=1)\n",
    "y=df['class']"
   ]
  },
  {
   "cell_type": "code",
   "execution_count": 18,
   "metadata": {},
   "outputs": [
    {
     "name": "stdout",
     "output_type": "stream",
     "text": [
      "       Unnamed: 0   fLength    fWidth   fSize   fConc  fConc1     fAsym  \\\n",
      "0               0   28.7967   16.0021  2.6449  0.3918  0.1982   27.7004   \n",
      "1               1   31.6036   11.7235  2.5185  0.5303  0.3773   26.2722   \n",
      "2               2  162.0520  136.0310  4.0612  0.0374  0.0187  116.7410   \n",
      "3               3   23.8172    9.5728  2.3385  0.6147  0.3922   27.2107   \n",
      "4               4   75.1362   30.9205  3.1611  0.3168  0.1832   -5.5277   \n",
      "5               5   51.6240   21.1502  2.9085  0.2420  0.1340   50.8761   \n",
      "6               6   48.2468   17.3565  3.0332  0.2529  0.1515    8.5730   \n",
      "7               7   26.7897   13.7595  2.5521  0.4236  0.2174   29.6339   \n",
      "8               8   96.2327   46.5165  4.1540  0.0779  0.0390  110.3550   \n",
      "9               9   46.7619   15.1993  2.5786  0.3377  0.1913   24.7548   \n",
      "10             10   62.7766   29.9104  3.3331  0.2475  0.1261  -33.9065   \n",
      "11             11   18.8562   16.4600  2.4385  0.5282  0.2933   25.1269   \n",
      "12             12   45.6321   22.7100  3.0441  0.2213  0.1215  -18.3986   \n",
      "13             13   33.1818   12.4655  2.4955  0.4696  0.2412  -17.0341   \n",
      "14             14   60.4580   33.1061  3.1944  0.4679  0.2464   14.3000   \n",
      "15             15   29.4741   22.4581  2.6258  0.3077  0.1740   18.1242   \n",
      "16             16   36.1741   17.6865  2.9460  0.2865  0.1591   -4.7746   \n",
      "17             17   46.2915   16.0328  2.7756  0.3403  0.1920   49.9706   \n",
      "18             18   46.0588   18.7870  3.2217  0.2431  0.1504   49.2704   \n",
      "19             19   44.7394   15.6364  2.6380  0.3107  0.1715   14.0430   \n",
      "20             20   91.6423   71.8818  3.8484  0.0780  0.0430  -56.7107   \n",
      "21             21   86.0486   21.8287  3.3587  0.2369  0.1662  -58.7854   \n",
      "22             22   90.5299   17.8721  3.0330  0.2122  0.1080  -57.4170   \n",
      "23             23   20.3836    9.0462  2.3365  0.6359  0.3894   22.2700   \n",
      "24             24   87.2384   27.9350  2.8848  0.3155  0.1806  -18.2102   \n",
      "25             25  107.3380   29.1356  3.5265  0.1315  0.0683  -47.1175   \n",
      "26             26   27.2304   19.2817  2.6375  0.3710  0.2039   23.0406   \n",
      "27             27   26.7065   18.9070  2.6781  0.4281  0.2214    9.1616   \n",
      "28             28   23.5647    9.9926  2.2095  0.5679  0.3364   30.0056   \n",
      "29             29   34.7486   19.2286  2.5629  0.3666  0.1984   30.3637   \n",
      "...           ...       ...       ...     ...     ...     ...       ...   \n",
      "18990       18990   26.0277    7.4010  2.4223  0.6194  0.3791  -27.8670   \n",
      "18991       18991   32.1547   12.5410  2.7593  0.4317  0.2167   31.6221   \n",
      "18992       18992  169.0402   35.3614  3.2894  0.3349  0.1986 -162.2329   \n",
      "18993       18993   18.8377    8.8786  2.5617  0.6039  0.3234    0.4589   \n",
      "18994       18994  195.2309   67.0206  3.7669  0.1195  0.0677 -119.1863   \n",
      "18995       18995   67.7139   28.5831  3.2384  0.2050  0.1106 -133.6450   \n",
      "18996       18996   29.8353   11.3519  2.4449  0.4890  0.2948    9.9236   \n",
      "18997       18997   18.0124   10.6746  2.5694  0.5768  0.2951  -23.3968   \n",
      "18998       18998  207.2530   75.8327  4.1476  0.0739  0.0371 -242.4960   \n",
      "18999       18999  172.2442   20.1926  2.9009  0.2887  0.1940  124.5990   \n",
      "19000       19000   69.3556   31.9822  3.2231  0.3093  0.1744  -52.6569   \n",
      "19001       19001   57.1905   35.5095  2.7177  0.2337  0.1197  -48.5112   \n",
      "19002       19002  110.7140   26.8312  3.2212  0.1856  0.1247 -158.0625   \n",
      "19003       19003   21.5189   15.4205  2.7328  0.5587  0.3117   -7.3668   \n",
      "19004       19004   23.4293   11.3673  2.7001  0.3842  0.1890  -26.3784   \n",
      "19005       19005   23.8277   11.8989  2.4393  0.4655  0.2891   11.1013   \n",
      "19006       19006   32.1454   13.8296  2.4844  0.5182  0.2761  -36.0633   \n",
      "19007       19007  115.2640   14.0075  2.8540  0.7544  0.4136  -88.2076   \n",
      "19008       19008  133.4950   40.1631  3.3050  0.1169  0.0602   84.1711   \n",
      "19009       19009   39.5223   18.6327  2.8341  0.2462  0.1414   24.1819   \n",
      "19010       19010   32.4902   10.6723  2.4742  0.4664  0.2735  -27.0097   \n",
      "19011       19011   79.5528   44.9929  3.5488  0.1656  0.0900  -39.6213   \n",
      "19012       19012   31.8373   13.8734  2.8251  0.4169  0.1988  -16.4919   \n",
      "19013       19013  182.5003   76.5568  3.6872  0.1123  0.0666  192.2675   \n",
      "19014       19014   43.2980   17.3545  2.8307  0.2877  0.1646  -60.1842   \n",
      "19015       19015   21.3846   10.9170  2.6161  0.5857  0.3934   15.2618   \n",
      "19016       19016   28.9452    6.7020  2.2672  0.5351  0.2784   37.0816   \n",
      "19017       19017   75.4455   47.5305  3.4483  0.1417  0.0549   -9.3561   \n",
      "19018       19018  120.5135   76.9018  3.9939  0.0944  0.0683    5.8043   \n",
      "19019       19019  187.1814   53.0014  3.2093  0.2876  0.1539 -167.3125   \n",
      "\n",
      "        fM3Long  fM3Trans   fAlpha     fDist  \n",
      "0       22.0110   -8.2027  40.0920   81.8828  \n",
      "1       23.8238   -9.9574   6.3609  205.2610  \n",
      "2      -64.8580  -45.2160  76.9600  256.7880  \n",
      "3       -6.4633   -7.1513  10.4490  116.7370  \n",
      "4       28.5525   21.8393   4.6480  356.4620  \n",
      "5       43.1887    9.8145   3.6130  238.0980  \n",
      "6       38.0957   10.5868   4.7920  219.0870  \n",
      "7       20.4560   -2.9292   0.8120  237.1340  \n",
      "8       85.0486   43.1844   4.8540  248.2260  \n",
      "9       43.8771   -6.6812   7.8750  102.2510  \n",
      "10      57.5848   23.7710   9.9144  323.0940  \n",
      "11      -6.5401  -16.9327  11.4610  162.8480  \n",
      "12     -20.6427  -14.3164   0.3822  178.2550  \n",
      "13     -22.0762   -8.1803  41.9290   41.3816  \n",
      "14     -33.8765   28.8315   8.2920  372.5680  \n",
      "15      22.7035   13.1673  48.0364  214.1260  \n",
      "16     -18.9697   11.3256   0.2540  191.4550  \n",
      "17      33.3653  -12.7979  38.7070   75.5234  \n",
      "18      34.1066   10.7955   8.6860  180.7830  \n",
      "19      37.2246   12.4183   3.2510  221.8060  \n",
      "20      72.3016   60.0190  16.6220  285.4140  \n",
      "21      57.8212  -18.8093   2.0050  302.5530  \n",
      "22      84.6189   14.9662   2.0390  272.0380  \n",
      "23      12.9487   -2.0403  43.0032   66.1667  \n",
      "24      66.6867  -11.3438   4.4265  342.5040  \n",
      "25      89.5136  -20.0479   3.3120  293.7810  \n",
      "26      23.3428    9.7216  77.5379  104.2830  \n",
      "27      18.6858  -11.6888  26.8810   63.7637  \n",
      "28     -13.8665   -8.2600  26.5328  185.1890  \n",
      "29     -16.3092   14.3186   1.5210  109.4450  \n",
      "...         ...       ...      ...       ...  \n",
      "18990   14.0382  -12.9981  64.7583  186.2433  \n",
      "18991   24.5785   -9.6861  35.1840  192.5870  \n",
      "18992   70.4636   -9.7764  48.5542  326.2363  \n",
      "18993   15.5433   -8.4175  31.5080  164.8029  \n",
      "18994 -155.8811  -40.6133   1.9242  213.1906  \n",
      "18995   63.1391  -16.6379  47.9790  251.9930  \n",
      "18996   -9.0429   16.2790  17.1944  230.5486  \n",
      "18997   -9.2150    4.7010  52.4630  172.5960  \n",
      "18998 -180.0290  -57.8600  74.5740  259.3160  \n",
      "18999  112.9452  -21.4436  28.9553  210.8496  \n",
      "19000  -42.0622    6.3984   7.6304  289.2860  \n",
      "19001  -54.2835   32.3612  44.7320  102.9950  \n",
      "19002   73.2259   21.2864   9.3725  281.8795  \n",
      "19003    9.2409   17.1609  80.4307  223.9730  \n",
      "19004  -14.5363   15.6128  88.3032  269.0718  \n",
      "19005   11.5776    6.8613  35.3166  152.0720  \n",
      "19006  -15.9648  -12.2698  47.3704  246.0565  \n",
      "19007 -117.4860    8.4777  28.0100  336.9910  \n",
      "19008  -81.3323  -31.0503  28.1458  319.3730  \n",
      "19009   23.2190  -12.9245  46.2680  187.0970  \n",
      "19010  -21.1687    8.4813  69.1730  120.6680  \n",
      "19011   53.7866  -30.0054  15.8075  311.5680  \n",
      "19012  -27.1448   11.1098  11.3663  100.0566  \n",
      "19013   93.0302  -62.6192  82.1691  283.4731  \n",
      "19014  -33.8513   -3.6545  78.4099  224.8299  \n",
      "19015   11.5245    2.8766   2.4229  106.8258  \n",
      "19016   13.1853   -2.9632  86.7975  247.4560  \n",
      "19017   41.0562   -9.4662  30.2987  256.5166  \n",
      "19018  -93.5224  -63.8389  84.6874  408.3166  \n",
      "19019 -168.4558   31.4755  52.7310  272.3174  \n",
      "\n",
      "[19020 rows x 11 columns]\n"
     ]
    }
   ],
   "source": [
    "print(X)"
   ]
  },
  {
   "cell_type": "code",
   "execution_count": 9,
   "metadata": {
    "colab": {
     "base_uri": "https://localhost:8080/",
     "height": 34
    },
    "colab_type": "code",
    "id": "yPHzQ3pO5y0d",
    "outputId": "0e03d08a-8095-4f51-beac-12fdc6a466ec"
   },
   "outputs": [
    {
     "data": {
      "text/plain": [
       "(19020, 11)"
      ]
     },
     "execution_count": 9,
     "metadata": {},
     "output_type": "execute_result"
    }
   ],
   "source": [
    "X.shape"
   ]
  },
  {
   "cell_type": "code",
   "execution_count": 10,
   "metadata": {
    "colab": {
     "base_uri": "https://localhost:8080/",
     "height": 34
    },
    "colab_type": "code",
    "id": "-OjDjfs752Vo",
    "outputId": "1aae7ca6-414c-4363-c6f6-ec315a3c95df"
   },
   "outputs": [
    {
     "data": {
      "text/plain": [
       "(19020,)"
      ]
     },
     "execution_count": 10,
     "metadata": {},
     "output_type": "execute_result"
    }
   ],
   "source": [
    "y.shape"
   ]
  },
  {
   "cell_type": "code",
   "execution_count": 11,
   "metadata": {
    "colab": {},
    "colab_type": "code",
    "id": "iZPwId_wHdgZ"
   },
   "outputs": [],
   "source": [
    "from sklearn.model_selection import train_test_split\n",
    "X_train,X_test,y_train,y_test = train_test_split(X,y,test_size=.3,random_state=5)"
   ]
  },
  {
   "cell_type": "code",
   "execution_count": 12,
   "metadata": {
    "colab": {
     "base_uri": "https://localhost:8080/",
     "height": 34
    },
    "colab_type": "code",
    "id": "sp6iOPTn59DJ",
    "outputId": "4606099b-c195-4617-8e85-55b22eca7537"
   },
   "outputs": [
    {
     "data": {
      "text/plain": [
       "(13314, 11)"
      ]
     },
     "execution_count": 12,
     "metadata": {},
     "output_type": "execute_result"
    }
   ],
   "source": [
    "X_train.shape"
   ]
  },
  {
   "cell_type": "code",
   "execution_count": 13,
   "metadata": {
    "colab": {
     "base_uri": "https://localhost:8080/",
     "height": 34
    },
    "colab_type": "code",
    "id": "B-ACAkXv6CbQ",
    "outputId": "a8311302-841a-429f-f621-ae85db7f6431"
   },
   "outputs": [
    {
     "data": {
      "text/plain": [
       "(5706, 11)"
      ]
     },
     "execution_count": 13,
     "metadata": {},
     "output_type": "execute_result"
    }
   ],
   "source": [
    "X_test.shape"
   ]
  },
  {
   "cell_type": "code",
   "execution_count": 14,
   "metadata": {
    "colab": {
     "base_uri": "https://localhost:8080/",
     "height": 34
    },
    "colab_type": "code",
    "id": "D-u__Zkg6FfG",
    "outputId": "53e6dc40-864c-48f7-82cf-c007804fa14a"
   },
   "outputs": [
    {
     "data": {
      "text/plain": [
       "(13314,)"
      ]
     },
     "execution_count": 14,
     "metadata": {},
     "output_type": "execute_result"
    }
   ],
   "source": [
    "y_train.shape"
   ]
  },
  {
   "cell_type": "code",
   "execution_count": 15,
   "metadata": {
    "colab": {
     "base_uri": "https://localhost:8080/",
     "height": 34
    },
    "colab_type": "code",
    "id": "Jtc4cMrn6Icb",
    "outputId": "f8a964d3-c776-43d3-d8b9-96967575585b"
   },
   "outputs": [
    {
     "data": {
      "text/plain": [
       "(5706,)"
      ]
     },
     "execution_count": 15,
     "metadata": {},
     "output_type": "execute_result"
    }
   ],
   "source": [
    "y_test.shape"
   ]
  },
  {
   "cell_type": "markdown",
   "metadata": {
    "colab_type": "text",
    "id": "DS_SxyP7B9zO"
   },
   "source": [
    "Logistic Regression"
   ]
  },
  {
   "cell_type": "code",
   "execution_count": 16,
   "metadata": {
    "colab": {},
    "colab_type": "code",
    "id": "pmK-lAscBybj"
   },
   "outputs": [],
   "source": [
    "from sklearn.linear_model import LogisticRegression"
   ]
  },
  {
   "cell_type": "code",
   "execution_count": 17,
   "metadata": {
    "colab": {
     "base_uri": "https://localhost:8080/",
     "height": 72
    },
    "colab_type": "code",
    "id": "-W2nH8DCBvqB",
    "outputId": "278ecd33-f4c7-4bc3-a8a2-27c8b4f85483"
   },
   "outputs": [
    {
     "name": "stderr",
     "output_type": "stream",
     "text": [
      "C:\\Users\\RANVEER\\Anaconda3\\lib\\site-packages\\sklearn\\linear_model\\logistic.py:432: FutureWarning: Default solver will be changed to 'lbfgs' in 0.22. Specify a solver to silence this warning.\n",
      "  FutureWarning)\n"
     ]
    }
   ],
   "source": [
    "model1 = LogisticRegression()\n",
    "Lrmodel=model1.fit(X_train,y_train)\n",
    "yp1=model1.predict(X_test)\n",
    " "
   ]
  },
  {
   "cell_type": "code",
   "execution_count": 18,
   "metadata": {
    "colab": {
     "base_uri": "https://localhost:8080/",
     "height": 34
    },
    "colab_type": "code",
    "id": "n7h0gNEV1VwJ",
    "outputId": "566899e4-aa5a-448c-d2d8-74c2e779caca"
   },
   "outputs": [
    {
     "name": "stdout",
     "output_type": "stream",
     "text": [
      "0.9730108657553452\n"
     ]
    }
   ],
   "source": [
    "logistic_acc=accuracy_score(y_test,yp1)\n",
    "print(logistic_acc)"
   ]
  },
  {
   "cell_type": "code",
   "execution_count": 19,
   "metadata": {
    "colab": {
     "base_uri": "https://localhost:8080/",
     "height": 52
    },
    "colab_type": "code",
    "id": "8O771h-N2kuH",
    "outputId": "67f5692f-9322-4e50-df30-9971b9b9a4ad"
   },
   "outputs": [
    {
     "name": "stdout",
     "output_type": "stream",
     "text": [
      "Confusion matrix\n",
      " [[3570   95]\n",
      " [  59 1982]]\n"
     ]
    }
   ],
   "source": [
    "print(\"Confusion matrix\\n\",confusion_matrix(y_test,yp1))"
   ]
  },
  {
   "cell_type": "code",
   "execution_count": 20,
   "metadata": {
    "colab": {
     "base_uri": "https://localhost:8080/",
     "height": 175
    },
    "colab_type": "code",
    "id": "WzaUiXbt2wZe",
    "outputId": "fb8c936d-c1a1-467e-d4ea-29d1e675ee62"
   },
   "outputs": [
    {
     "name": "stdout",
     "output_type": "stream",
     "text": [
      "Classification Report\n",
      "               precision    recall  f1-score   support\n",
      "\n",
      "           g       0.98      0.97      0.98      3665\n",
      "           h       0.95      0.97      0.96      2041\n",
      "\n",
      "    accuracy                           0.97      5706\n",
      "   macro avg       0.97      0.97      0.97      5706\n",
      "weighted avg       0.97      0.97      0.97      5706\n",
      "\n"
     ]
    }
   ],
   "source": [
    "print(\"Classification Report\\n\",classification_report(y_test,yp1))"
   ]
  },
  {
   "cell_type": "markdown",
   "metadata": {
    "colab_type": "text",
    "id": "j_P1GhYBJBVX"
   },
   "source": [
    "SVM"
   ]
  },
  {
   "cell_type": "code",
   "execution_count": 21,
   "metadata": {
    "colab": {},
    "colab_type": "code",
    "id": "hxEf2LRHI-HK"
   },
   "outputs": [],
   "source": [
    "from sklearn import svm"
   ]
  },
  {
   "cell_type": "code",
   "execution_count": 22,
   "metadata": {
    "colab": {},
    "colab_type": "code",
    "id": "clnqJVivI7qV"
   },
   "outputs": [],
   "source": [
    "svm_clf = svm.SVC(kernel='linear') \n",
    "svm_clf.fit(X_train, y_train)\n",
    "y_pred = svm_clf.predict(X_test)"
   ]
  },
  {
   "cell_type": "code",
   "execution_count": 23,
   "metadata": {
    "colab": {
     "base_uri": "https://localhost:8080/",
     "height": 34
    },
    "colab_type": "code",
    "id": "-VwmlL8j3JUb",
    "outputId": "4247b7e1-4397-45e3-f674-4cb49cac86bc"
   },
   "outputs": [
    {
     "name": "stdout",
     "output_type": "stream",
     "text": [
      "0.9998247458815283\n"
     ]
    }
   ],
   "source": [
    "svm_acc=svm_clf.score(X_test,y_test)\n",
    "print(svm_acc)"
   ]
  },
  {
   "cell_type": "markdown",
   "metadata": {
    "colab_type": "text",
    "id": "ucKAoP8I_ESL"
   },
   "source": [
    "KNN"
   ]
  },
  {
   "cell_type": "code",
   "execution_count": null,
   "metadata": {
    "colab": {},
    "colab_type": "code",
    "id": "Qy7iRwADG5mZ"
   },
   "outputs": [],
   "source": []
  },
  {
   "cell_type": "code",
   "execution_count": 24,
   "metadata": {
    "colab": {},
    "colab_type": "code",
    "id": "EUeWg-RyHDpP"
   },
   "outputs": [],
   "source": [
    "from sklearn.neighbors import KNeighborsClassifier\n",
    " "
   ]
  },
  {
   "cell_type": "code",
   "execution_count": 25,
   "metadata": {
    "colab": {},
    "colab_type": "code",
    "id": "DPUWpV9JHsCF"
   },
   "outputs": [],
   "source": [
    "model2=KNeighborsClassifier(n_neighbors=50)\n",
    "knn=model2.fit(X_train,y_train)\n",
    "yp2=model2.predict(X_test)"
   ]
  },
  {
   "cell_type": "code",
   "execution_count": 26,
   "metadata": {
    "colab": {
     "base_uri": "https://localhost:8080/",
     "height": 34
    },
    "colab_type": "code",
    "id": "nLxyVL1x3-zA",
    "outputId": "a080837a-624f-461c-c9b0-55c7f57ccaac"
   },
   "outputs": [
    {
     "name": "stdout",
     "output_type": "stream",
     "text": [
      "0.9998247458815283\n"
     ]
    }
   ],
   "source": [
    "knn_acc=accuracy_score(y_test,yp2)\n",
    "print(knn_acc)"
   ]
  },
  {
   "cell_type": "code",
   "execution_count": 27,
   "metadata": {
    "colab": {
     "base_uri": "https://localhost:8080/",
     "height": 52
    },
    "colab_type": "code",
    "id": "dKBEa5No4Brj",
    "outputId": "029fec60-71b1-4ee9-9d99-7d27b6f525c9"
   },
   "outputs": [
    {
     "name": "stdout",
     "output_type": "stream",
     "text": [
      "Confusion matrix [[3665    0]\n",
      " [   1 2040]]\n"
     ]
    }
   ],
   "source": [
    "print(\"Confusion matrix\",confusion_matrix(y_test,yp2))"
   ]
  },
  {
   "cell_type": "code",
   "execution_count": 28,
   "metadata": {
    "colab": {
     "base_uri": "https://localhost:8080/",
     "height": 175
    },
    "colab_type": "code",
    "id": "VChRdFaE4OKN",
    "outputId": "e8cf8fb7-f64e-4831-ba19-609a009cbd77"
   },
   "outputs": [
    {
     "name": "stdout",
     "output_type": "stream",
     "text": [
      "Classification Report               precision    recall  f1-score   support\n",
      "\n",
      "           g       1.00      1.00      1.00      3665\n",
      "           h       1.00      1.00      1.00      2041\n",
      "\n",
      "    accuracy                           1.00      5706\n",
      "   macro avg       1.00      1.00      1.00      5706\n",
      "weighted avg       1.00      1.00      1.00      5706\n",
      "\n"
     ]
    }
   ],
   "source": [
    "print(\"Classification Report\",classification_report(y_test,yp2))"
   ]
  },
  {
   "cell_type": "markdown",
   "metadata": {
    "colab_type": "text",
    "id": "jWlrDwVBM1JU"
   },
   "source": [
    "Decision Tree"
   ]
  },
  {
   "cell_type": "code",
   "execution_count": 29,
   "metadata": {
    "colab": {},
    "colab_type": "code",
    "id": "Dj0HlPleCs70"
   },
   "outputs": [],
   "source": [
    "from sklearn.tree import DecisionTreeClassifier\n",
    "model3=DecisionTreeClassifier(criterion='entropy',max_depth=2)\n",
    "dt=model3.fit(X_train,y_train)"
   ]
  },
  {
   "cell_type": "code",
   "execution_count": 30,
   "metadata": {
    "colab": {
     "base_uri": "https://localhost:8080/",
     "height": 371
    },
    "colab_type": "code",
    "id": "nVH9yQqUMoXt",
    "outputId": "1c2e55ce-1bed-47cb-ce8a-94f28bac74ee"
   },
   "outputs": [
    {
     "data": {
      "text/plain": [
       "[Text(167.4, 163.07999999999998, 'X[0] <= 12331.5\\nentropy = 0.933\\nsamples = 13314\\nvalue = [8667, 4647]'),\n",
       " Text(83.7, 54.360000000000014, 'entropy = 0.0\\nsamples = 8667\\nvalue = [8667, 0]'),\n",
       " Text(251.10000000000002, 54.360000000000014, 'entropy = 0.0\\nsamples = 4647\\nvalue = [0, 4647]')]"
      ]
     },
     "execution_count": 30,
     "metadata": {},
     "output_type": "execute_result"
    },
    {
     "data": {
      "image/png": "[encoded data removed]",
      "text/plain": [
       "<Figure size 432x288 with 1 Axes>"
      ]
     },
     "metadata": {
      "needs_background": "light"
     },
     "output_type": "display_data"
    }
   ],
   "source": [
    "from sklearn import tree\n",
    "tree.plot_tree(model3)"
   ]
  },
  {
   "cell_type": "code",
   "execution_count": 31,
   "metadata": {
    "colab": {},
    "colab_type": "code",
    "id": "Y346uOFaMvQ3"
   },
   "outputs": [],
   "source": [
    "yp3=dt.predict(X_test)"
   ]
  },
  {
   "cell_type": "code",
   "execution_count": 32,
   "metadata": {
    "colab": {
     "base_uri": "https://localhost:8080/",
     "height": 34
    },
    "colab_type": "code",
    "id": "AuEgseTR4cGH",
    "outputId": "689a0bdc-8211-4c07-81a0-0cc013cc1cb9"
   },
   "outputs": [],
   "source": [
    "dt_acc=accuracy_score(y_test,yp3)"
   ]
  },
  {
   "cell_type": "code",
   "execution_count": 33,
   "metadata": {
    "colab": {
     "base_uri": "https://localhost:8080/",
     "height": 52
    },
    "colab_type": "code",
    "id": "VOvLSh2c4fhX",
    "outputId": "036d8816-eb15-4c88-d5d9-e65e790a9502"
   },
   "outputs": [
    {
     "name": "stdout",
     "output_type": "stream",
     "text": [
      "Confusion matrix\n",
      " [[3665    0]\n",
      " [   0 2041]]\n"
     ]
    }
   ],
   "source": [
    "print(\"Confusion matrix\\n\",confusion_matrix(y_test,yp3))"
   ]
  },
  {
   "cell_type": "code",
   "execution_count": 34,
   "metadata": {
    "colab": {
     "base_uri": "https://localhost:8080/",
     "height": 175
    },
    "colab_type": "code",
    "id": "Xsk92fto4aB0",
    "outputId": "3527ab60-2d8a-4359-f31c-529f948b4e24"
   },
   "outputs": [
    {
     "name": "stdout",
     "output_type": "stream",
     "text": [
      "Classification Report\n",
      "               precision    recall  f1-score   support\n",
      "\n",
      "           g       1.00      1.00      1.00      3665\n",
      "           h       1.00      1.00      1.00      2041\n",
      "\n",
      "    accuracy                           1.00      5706\n",
      "   macro avg       1.00      1.00      1.00      5706\n",
      "weighted avg       1.00      1.00      1.00      5706\n",
      "\n"
     ]
    }
   ],
   "source": [
    "print(\"Classification Report\\n\",classification_report(y_test,yp3))"
   ]
  },
  {
   "cell_type": "code",
   "execution_count": 35,
   "metadata": {
    "colab": {},
    "colab_type": "code",
    "id": "r7FYny7vbLxo"
   },
   "outputs": [
    {
     "data": {
      "image/png": "[encoded data removed]",
      "text/plain": [
       "<Figure size 432x288 with 1 Axes>"
      ]
     },
     "metadata": {
      "needs_background": "light"
     },
     "output_type": "display_data"
    }
   ],
   "source": [
    "plt.bar([1,2,3,4],[logistic_acc,svm_acc,knn_acc,dt_acc],width=0.5,tick_label=['LR=0.97','SVM=0.99','KNN=0.99','DT=1.0'],color=['red','blue','green','yellow'])\n",
    "plt.xlabel('classifiers')\n",
    "plt.ylabel('performance analysis')\n",
    "plt.show()"
   ]
  },
  {
   "cell_type": "code",
   "execution_count": null,
   "metadata": {},
   "outputs": [],
   "source": []
  }
 ],
 "metadata": {
  "colab": {
   "collapsed_sections": [],
   "name": "mlProj.ipynb",
   "provenance": []
  },
  "kernelspec": {
   "display_name": "Python 3",
   "language": "python",
   "name": "python3"
  },
  "language_info": {
   "codemirror_mode": {
    "name": "ipython",
    "version": 3
   },
   "file_extension": ".py",
   "mimetype": "text/x-python",
   "name": "python",
   "nbconvert_exporter": "python",
   "pygments_lexer": "ipython3",
   "version": "3.7.3"
  }
 },
 "nbformat": 4,
 "nbformat_minor": 1
}
