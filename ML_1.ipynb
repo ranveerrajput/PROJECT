{
 "cells": [
  {
   "cell_type": "code",
   "execution_count": 1,
   "metadata": {
    "colab": {},
    "colab_type": "code",
    "id": "4rjJOsOcGKD7"
   },
   "outputs": [],
   "source": [
    "import pandas as pd\n",
    "import numpy as np\n",
    "import matplotlib.pyplot as plt\n",
    "import seaborn as sns\n",
    "from sklearn import svm\n",
    "from sklearn.metrics import accuracy_score,confusion_matrix,classification_report"
   ]
  },
  {
   "cell_type": "code",
   "execution_count": 2,
   "metadata": {
    "colab": {
     "base_uri": "https://localhost:8080/",
     "height": 136
    },
    "colab_type": "code",
    "id": "AYP6X6HfGZfg",
    "outputId": "89580492-548a-4a77-b836-56cbb258d7d7"
   },
   "outputs": [
    {
     "data": {
      "text/html": [
       "<div>\n",
       "<style scoped>\n",
       "    .dataframe tbody tr th:only-of-type {\n",
       "        vertical-align: middle;\n",
       "    }\n",
       "\n",
       "    .dataframe tbody tr th {\n",
       "        vertical-align: top;\n",
       "    }\n",
       "\n",
       "    .dataframe thead th {\n",
       "        text-align: right;\n",
       "    }\n",
       "</style>\n",
       "<table border=\"1\" class=\"dataframe\">\n",
       "  <thead>\n",
       "    <tr style=\"text-align: right;\">\n",
       "      <th></th>\n",
       "      <th>pelvic_incidence</th>\n",
       "      <th>pelvic_tilt numeric</th>\n",
       "      <th>lumbar_lordosis_angle</th>\n",
       "      <th>sacral_slope</th>\n",
       "      <th>pelvic_radius</th>\n",
       "      <th>degree_spondylolisthesis</th>\n",
       "      <th>class</th>\n",
       "    </tr>\n",
       "  </thead>\n",
       "  <tbody>\n",
       "    <tr>\n",
       "      <th>0</th>\n",
       "      <td>63.027818</td>\n",
       "      <td>22.552586</td>\n",
       "      <td>39.609117</td>\n",
       "      <td>40.475232</td>\n",
       "      <td>98.672917</td>\n",
       "      <td>-0.254400</td>\n",
       "      <td>Abnormal</td>\n",
       "    </tr>\n",
       "    <tr>\n",
       "      <th>1</th>\n",
       "      <td>39.056951</td>\n",
       "      <td>10.060991</td>\n",
       "      <td>25.015378</td>\n",
       "      <td>28.995960</td>\n",
       "      <td>114.405425</td>\n",
       "      <td>4.564259</td>\n",
       "      <td>Abnormal</td>\n",
       "    </tr>\n",
       "    <tr>\n",
       "      <th>2</th>\n",
       "      <td>68.832021</td>\n",
       "      <td>22.218482</td>\n",
       "      <td>50.092194</td>\n",
       "      <td>46.613539</td>\n",
       "      <td>105.985135</td>\n",
       "      <td>-3.530317</td>\n",
       "      <td>Abnormal</td>\n",
       "    </tr>\n",
       "    <tr>\n",
       "      <th>3</th>\n",
       "      <td>69.297008</td>\n",
       "      <td>24.652878</td>\n",
       "      <td>44.311238</td>\n",
       "      <td>44.644130</td>\n",
       "      <td>101.868495</td>\n",
       "      <td>11.211523</td>\n",
       "      <td>Abnormal</td>\n",
       "    </tr>\n",
       "    <tr>\n",
       "      <th>4</th>\n",
       "      <td>49.712859</td>\n",
       "      <td>9.652075</td>\n",
       "      <td>28.317406</td>\n",
       "      <td>40.060784</td>\n",
       "      <td>108.168725</td>\n",
       "      <td>7.918501</td>\n",
       "      <td>Abnormal</td>\n",
       "    </tr>\n",
       "    <tr>\n",
       "      <th>5</th>\n",
       "      <td>40.250200</td>\n",
       "      <td>13.921907</td>\n",
       "      <td>25.124950</td>\n",
       "      <td>26.328293</td>\n",
       "      <td>130.327871</td>\n",
       "      <td>2.230652</td>\n",
       "      <td>Abnormal</td>\n",
       "    </tr>\n",
       "    <tr>\n",
       "      <th>6</th>\n",
       "      <td>53.432928</td>\n",
       "      <td>15.864336</td>\n",
       "      <td>37.165934</td>\n",
       "      <td>37.568592</td>\n",
       "      <td>120.567523</td>\n",
       "      <td>5.988551</td>\n",
       "      <td>Abnormal</td>\n",
       "    </tr>\n",
       "    <tr>\n",
       "      <th>7</th>\n",
       "      <td>45.366754</td>\n",
       "      <td>10.755611</td>\n",
       "      <td>29.038349</td>\n",
       "      <td>34.611142</td>\n",
       "      <td>117.270068</td>\n",
       "      <td>-10.675871</td>\n",
       "      <td>Abnormal</td>\n",
       "    </tr>\n",
       "    <tr>\n",
       "      <th>8</th>\n",
       "      <td>43.790190</td>\n",
       "      <td>13.533753</td>\n",
       "      <td>42.690814</td>\n",
       "      <td>30.256437</td>\n",
       "      <td>125.002893</td>\n",
       "      <td>13.289018</td>\n",
       "      <td>Abnormal</td>\n",
       "    </tr>\n",
       "    <tr>\n",
       "      <th>9</th>\n",
       "      <td>36.686353</td>\n",
       "      <td>5.010884</td>\n",
       "      <td>41.948751</td>\n",
       "      <td>31.675469</td>\n",
       "      <td>84.241415</td>\n",
       "      <td>0.664437</td>\n",
       "      <td>Abnormal</td>\n",
       "    </tr>\n",
       "    <tr>\n",
       "      <th>10</th>\n",
       "      <td>49.706610</td>\n",
       "      <td>13.040974</td>\n",
       "      <td>31.334500</td>\n",
       "      <td>36.665635</td>\n",
       "      <td>108.648265</td>\n",
       "      <td>-7.825986</td>\n",
       "      <td>Abnormal</td>\n",
       "    </tr>\n",
       "    <tr>\n",
       "      <th>11</th>\n",
       "      <td>31.232387</td>\n",
       "      <td>17.715819</td>\n",
       "      <td>15.500000</td>\n",
       "      <td>13.516568</td>\n",
       "      <td>120.055399</td>\n",
       "      <td>0.499751</td>\n",
       "      <td>Abnormal</td>\n",
       "    </tr>\n",
       "    <tr>\n",
       "      <th>12</th>\n",
       "      <td>48.915551</td>\n",
       "      <td>19.964556</td>\n",
       "      <td>40.263794</td>\n",
       "      <td>28.950995</td>\n",
       "      <td>119.321358</td>\n",
       "      <td>8.028895</td>\n",
       "      <td>Abnormal</td>\n",
       "    </tr>\n",
       "    <tr>\n",
       "      <th>13</th>\n",
       "      <td>53.572170</td>\n",
       "      <td>20.460828</td>\n",
       "      <td>33.100000</td>\n",
       "      <td>33.111342</td>\n",
       "      <td>110.966698</td>\n",
       "      <td>7.044803</td>\n",
       "      <td>Abnormal</td>\n",
       "    </tr>\n",
       "    <tr>\n",
       "      <th>14</th>\n",
       "      <td>57.300227</td>\n",
       "      <td>24.188885</td>\n",
       "      <td>47.000000</td>\n",
       "      <td>33.111342</td>\n",
       "      <td>116.806587</td>\n",
       "      <td>5.766947</td>\n",
       "      <td>Abnormal</td>\n",
       "    </tr>\n",
       "    <tr>\n",
       "      <th>15</th>\n",
       "      <td>44.318907</td>\n",
       "      <td>12.537992</td>\n",
       "      <td>36.098763</td>\n",
       "      <td>31.780915</td>\n",
       "      <td>124.115836</td>\n",
       "      <td>5.415825</td>\n",
       "      <td>Abnormal</td>\n",
       "    </tr>\n",
       "    <tr>\n",
       "      <th>16</th>\n",
       "      <td>63.834982</td>\n",
       "      <td>20.362507</td>\n",
       "      <td>54.552434</td>\n",
       "      <td>43.472475</td>\n",
       "      <td>112.309492</td>\n",
       "      <td>-0.622527</td>\n",
       "      <td>Abnormal</td>\n",
       "    </tr>\n",
       "    <tr>\n",
       "      <th>17</th>\n",
       "      <td>31.276012</td>\n",
       "      <td>3.144669</td>\n",
       "      <td>32.562996</td>\n",
       "      <td>28.131342</td>\n",
       "      <td>129.011418</td>\n",
       "      <td>3.623020</td>\n",
       "      <td>Abnormal</td>\n",
       "    </tr>\n",
       "    <tr>\n",
       "      <th>18</th>\n",
       "      <td>38.697912</td>\n",
       "      <td>13.444749</td>\n",
       "      <td>31.000000</td>\n",
       "      <td>25.253163</td>\n",
       "      <td>123.159251</td>\n",
       "      <td>1.429186</td>\n",
       "      <td>Abnormal</td>\n",
       "    </tr>\n",
       "    <tr>\n",
       "      <th>19</th>\n",
       "      <td>41.729963</td>\n",
       "      <td>12.254074</td>\n",
       "      <td>30.122586</td>\n",
       "      <td>29.475889</td>\n",
       "      <td>116.585706</td>\n",
       "      <td>-1.244402</td>\n",
       "      <td>Abnormal</td>\n",
       "    </tr>\n",
       "    <tr>\n",
       "      <th>20</th>\n",
       "      <td>43.922840</td>\n",
       "      <td>14.177959</td>\n",
       "      <td>37.832547</td>\n",
       "      <td>29.744881</td>\n",
       "      <td>134.461016</td>\n",
       "      <td>6.451648</td>\n",
       "      <td>Abnormal</td>\n",
       "    </tr>\n",
       "    <tr>\n",
       "      <th>21</th>\n",
       "      <td>54.919443</td>\n",
       "      <td>21.062332</td>\n",
       "      <td>42.200000</td>\n",
       "      <td>33.857110</td>\n",
       "      <td>125.212716</td>\n",
       "      <td>2.432561</td>\n",
       "      <td>Abnormal</td>\n",
       "    </tr>\n",
       "    <tr>\n",
       "      <th>22</th>\n",
       "      <td>63.073611</td>\n",
       "      <td>24.413803</td>\n",
       "      <td>54.000000</td>\n",
       "      <td>38.659808</td>\n",
       "      <td>106.424329</td>\n",
       "      <td>15.779697</td>\n",
       "      <td>Abnormal</td>\n",
       "    </tr>\n",
       "    <tr>\n",
       "      <th>23</th>\n",
       "      <td>45.540790</td>\n",
       "      <td>13.069598</td>\n",
       "      <td>30.298321</td>\n",
       "      <td>32.471192</td>\n",
       "      <td>117.980830</td>\n",
       "      <td>-4.987130</td>\n",
       "      <td>Abnormal</td>\n",
       "    </tr>\n",
       "    <tr>\n",
       "      <th>24</th>\n",
       "      <td>36.125683</td>\n",
       "      <td>22.758753</td>\n",
       "      <td>29.000000</td>\n",
       "      <td>13.366931</td>\n",
       "      <td>115.577116</td>\n",
       "      <td>-3.237562</td>\n",
       "      <td>Abnormal</td>\n",
       "    </tr>\n",
       "    <tr>\n",
       "      <th>25</th>\n",
       "      <td>54.124920</td>\n",
       "      <td>26.650489</td>\n",
       "      <td>35.329747</td>\n",
       "      <td>27.474432</td>\n",
       "      <td>121.447011</td>\n",
       "      <td>1.571205</td>\n",
       "      <td>Abnormal</td>\n",
       "    </tr>\n",
       "    <tr>\n",
       "      <th>26</th>\n",
       "      <td>26.147921</td>\n",
       "      <td>10.759454</td>\n",
       "      <td>14.000000</td>\n",
       "      <td>15.388468</td>\n",
       "      <td>125.203296</td>\n",
       "      <td>-10.093108</td>\n",
       "      <td>Abnormal</td>\n",
       "    </tr>\n",
       "    <tr>\n",
       "      <th>27</th>\n",
       "      <td>43.580964</td>\n",
       "      <td>16.508884</td>\n",
       "      <td>47.000000</td>\n",
       "      <td>27.072080</td>\n",
       "      <td>109.271634</td>\n",
       "      <td>8.992816</td>\n",
       "      <td>Abnormal</td>\n",
       "    </tr>\n",
       "    <tr>\n",
       "      <th>28</th>\n",
       "      <td>44.551012</td>\n",
       "      <td>21.931147</td>\n",
       "      <td>26.785916</td>\n",
       "      <td>22.619865</td>\n",
       "      <td>111.072920</td>\n",
       "      <td>2.652321</td>\n",
       "      <td>Abnormal</td>\n",
       "    </tr>\n",
       "    <tr>\n",
       "      <th>29</th>\n",
       "      <td>66.879211</td>\n",
       "      <td>24.891999</td>\n",
       "      <td>49.278597</td>\n",
       "      <td>41.987212</td>\n",
       "      <td>113.477018</td>\n",
       "      <td>-2.005892</td>\n",
       "      <td>Abnormal</td>\n",
       "    </tr>\n",
       "    <tr>\n",
       "      <th>...</th>\n",
       "      <td>...</td>\n",
       "      <td>...</td>\n",
       "      <td>...</td>\n",
       "      <td>...</td>\n",
       "      <td>...</td>\n",
       "      <td>...</td>\n",
       "      <td>...</td>\n",
       "    </tr>\n",
       "    <tr>\n",
       "      <th>280</th>\n",
       "      <td>50.086153</td>\n",
       "      <td>13.430044</td>\n",
       "      <td>34.457541</td>\n",
       "      <td>36.656108</td>\n",
       "      <td>119.134622</td>\n",
       "      <td>3.089484</td>\n",
       "      <td>Normal</td>\n",
       "    </tr>\n",
       "    <tr>\n",
       "      <th>281</th>\n",
       "      <td>64.261507</td>\n",
       "      <td>14.497866</td>\n",
       "      <td>43.902504</td>\n",
       "      <td>49.763642</td>\n",
       "      <td>115.388268</td>\n",
       "      <td>5.951454</td>\n",
       "      <td>Normal</td>\n",
       "    </tr>\n",
       "    <tr>\n",
       "      <th>282</th>\n",
       "      <td>53.683380</td>\n",
       "      <td>13.447022</td>\n",
       "      <td>41.584297</td>\n",
       "      <td>40.236358</td>\n",
       "      <td>113.913703</td>\n",
       "      <td>2.737035</td>\n",
       "      <td>Normal</td>\n",
       "    </tr>\n",
       "    <tr>\n",
       "      <th>283</th>\n",
       "      <td>48.995958</td>\n",
       "      <td>13.113820</td>\n",
       "      <td>51.873520</td>\n",
       "      <td>35.882137</td>\n",
       "      <td>126.398188</td>\n",
       "      <td>0.535472</td>\n",
       "      <td>Normal</td>\n",
       "    </tr>\n",
       "    <tr>\n",
       "      <th>284</th>\n",
       "      <td>59.167612</td>\n",
       "      <td>14.562749</td>\n",
       "      <td>43.199158</td>\n",
       "      <td>44.604863</td>\n",
       "      <td>121.035642</td>\n",
       "      <td>2.830504</td>\n",
       "      <td>Normal</td>\n",
       "    </tr>\n",
       "    <tr>\n",
       "      <th>285</th>\n",
       "      <td>67.804694</td>\n",
       "      <td>16.550662</td>\n",
       "      <td>43.256802</td>\n",
       "      <td>51.254033</td>\n",
       "      <td>119.685645</td>\n",
       "      <td>4.867540</td>\n",
       "      <td>Normal</td>\n",
       "    </tr>\n",
       "    <tr>\n",
       "      <th>286</th>\n",
       "      <td>61.734875</td>\n",
       "      <td>17.114312</td>\n",
       "      <td>46.900000</td>\n",
       "      <td>44.620563</td>\n",
       "      <td>120.920200</td>\n",
       "      <td>3.087726</td>\n",
       "      <td>Normal</td>\n",
       "    </tr>\n",
       "    <tr>\n",
       "      <th>287</th>\n",
       "      <td>33.041688</td>\n",
       "      <td>-0.324678</td>\n",
       "      <td>19.071075</td>\n",
       "      <td>33.366366</td>\n",
       "      <td>120.388611</td>\n",
       "      <td>9.354365</td>\n",
       "      <td>Normal</td>\n",
       "    </tr>\n",
       "    <tr>\n",
       "      <th>288</th>\n",
       "      <td>74.565015</td>\n",
       "      <td>15.724320</td>\n",
       "      <td>58.618582</td>\n",
       "      <td>58.840695</td>\n",
       "      <td>105.417304</td>\n",
       "      <td>0.599247</td>\n",
       "      <td>Normal</td>\n",
       "    </tr>\n",
       "    <tr>\n",
       "      <th>289</th>\n",
       "      <td>44.430701</td>\n",
       "      <td>14.174264</td>\n",
       "      <td>32.243495</td>\n",
       "      <td>30.256437</td>\n",
       "      <td>131.717613</td>\n",
       "      <td>-3.604255</td>\n",
       "      <td>Normal</td>\n",
       "    </tr>\n",
       "    <tr>\n",
       "      <th>290</th>\n",
       "      <td>36.422485</td>\n",
       "      <td>13.879424</td>\n",
       "      <td>20.242562</td>\n",
       "      <td>22.543061</td>\n",
       "      <td>126.076861</td>\n",
       "      <td>0.179717</td>\n",
       "      <td>Normal</td>\n",
       "    </tr>\n",
       "    <tr>\n",
       "      <th>291</th>\n",
       "      <td>51.079833</td>\n",
       "      <td>14.209935</td>\n",
       "      <td>35.951229</td>\n",
       "      <td>36.869898</td>\n",
       "      <td>115.803711</td>\n",
       "      <td>6.905090</td>\n",
       "      <td>Normal</td>\n",
       "    </tr>\n",
       "    <tr>\n",
       "      <th>292</th>\n",
       "      <td>34.756738</td>\n",
       "      <td>2.631740</td>\n",
       "      <td>29.504381</td>\n",
       "      <td>32.124998</td>\n",
       "      <td>127.139850</td>\n",
       "      <td>-0.460894</td>\n",
       "      <td>Normal</td>\n",
       "    </tr>\n",
       "    <tr>\n",
       "      <th>293</th>\n",
       "      <td>48.902904</td>\n",
       "      <td>5.587589</td>\n",
       "      <td>55.500000</td>\n",
       "      <td>43.315316</td>\n",
       "      <td>137.108289</td>\n",
       "      <td>19.854759</td>\n",
       "      <td>Normal</td>\n",
       "    </tr>\n",
       "    <tr>\n",
       "      <th>294</th>\n",
       "      <td>46.236399</td>\n",
       "      <td>10.062770</td>\n",
       "      <td>37.000000</td>\n",
       "      <td>36.173629</td>\n",
       "      <td>128.063620</td>\n",
       "      <td>-5.100053</td>\n",
       "      <td>Normal</td>\n",
       "    </tr>\n",
       "    <tr>\n",
       "      <th>295</th>\n",
       "      <td>46.426366</td>\n",
       "      <td>6.620795</td>\n",
       "      <td>48.100000</td>\n",
       "      <td>39.805571</td>\n",
       "      <td>130.350096</td>\n",
       "      <td>2.449382</td>\n",
       "      <td>Normal</td>\n",
       "    </tr>\n",
       "    <tr>\n",
       "      <th>296</th>\n",
       "      <td>39.656902</td>\n",
       "      <td>16.208839</td>\n",
       "      <td>36.674857</td>\n",
       "      <td>23.448063</td>\n",
       "      <td>131.922009</td>\n",
       "      <td>-4.968980</td>\n",
       "      <td>Normal</td>\n",
       "    </tr>\n",
       "    <tr>\n",
       "      <th>297</th>\n",
       "      <td>45.575482</td>\n",
       "      <td>18.759135</td>\n",
       "      <td>33.774143</td>\n",
       "      <td>26.816347</td>\n",
       "      <td>116.797007</td>\n",
       "      <td>3.131910</td>\n",
       "      <td>Normal</td>\n",
       "    </tr>\n",
       "    <tr>\n",
       "      <th>298</th>\n",
       "      <td>66.507179</td>\n",
       "      <td>20.897672</td>\n",
       "      <td>31.727471</td>\n",
       "      <td>45.609507</td>\n",
       "      <td>128.902905</td>\n",
       "      <td>1.517203</td>\n",
       "      <td>Normal</td>\n",
       "    </tr>\n",
       "    <tr>\n",
       "      <th>299</th>\n",
       "      <td>82.905351</td>\n",
       "      <td>29.894119</td>\n",
       "      <td>58.250542</td>\n",
       "      <td>53.011232</td>\n",
       "      <td>110.708958</td>\n",
       "      <td>6.079338</td>\n",
       "      <td>Normal</td>\n",
       "    </tr>\n",
       "    <tr>\n",
       "      <th>300</th>\n",
       "      <td>50.676677</td>\n",
       "      <td>6.461501</td>\n",
       "      <td>35.000000</td>\n",
       "      <td>44.215175</td>\n",
       "      <td>116.587970</td>\n",
       "      <td>-0.214711</td>\n",
       "      <td>Normal</td>\n",
       "    </tr>\n",
       "    <tr>\n",
       "      <th>301</th>\n",
       "      <td>89.014875</td>\n",
       "      <td>26.075981</td>\n",
       "      <td>69.021259</td>\n",
       "      <td>62.938894</td>\n",
       "      <td>111.481075</td>\n",
       "      <td>6.061508</td>\n",
       "      <td>Normal</td>\n",
       "    </tr>\n",
       "    <tr>\n",
       "      <th>302</th>\n",
       "      <td>54.600316</td>\n",
       "      <td>21.488974</td>\n",
       "      <td>29.360216</td>\n",
       "      <td>33.111342</td>\n",
       "      <td>118.343321</td>\n",
       "      <td>-1.471067</td>\n",
       "      <td>Normal</td>\n",
       "    </tr>\n",
       "    <tr>\n",
       "      <th>303</th>\n",
       "      <td>34.382299</td>\n",
       "      <td>2.062683</td>\n",
       "      <td>32.390820</td>\n",
       "      <td>32.319617</td>\n",
       "      <td>128.300199</td>\n",
       "      <td>-3.365516</td>\n",
       "      <td>Normal</td>\n",
       "    </tr>\n",
       "    <tr>\n",
       "      <th>304</th>\n",
       "      <td>45.075450</td>\n",
       "      <td>12.306951</td>\n",
       "      <td>44.583177</td>\n",
       "      <td>32.768499</td>\n",
       "      <td>147.894637</td>\n",
       "      <td>-8.941709</td>\n",
       "      <td>Normal</td>\n",
       "    </tr>\n",
       "    <tr>\n",
       "      <th>305</th>\n",
       "      <td>47.903565</td>\n",
       "      <td>13.616688</td>\n",
       "      <td>36.000000</td>\n",
       "      <td>34.286877</td>\n",
       "      <td>117.449062</td>\n",
       "      <td>-4.245395</td>\n",
       "      <td>Normal</td>\n",
       "    </tr>\n",
       "    <tr>\n",
       "      <th>306</th>\n",
       "      <td>53.936748</td>\n",
       "      <td>20.721496</td>\n",
       "      <td>29.220534</td>\n",
       "      <td>33.215251</td>\n",
       "      <td>114.365845</td>\n",
       "      <td>-0.421010</td>\n",
       "      <td>Normal</td>\n",
       "    </tr>\n",
       "    <tr>\n",
       "      <th>307</th>\n",
       "      <td>61.446597</td>\n",
       "      <td>22.694968</td>\n",
       "      <td>46.170347</td>\n",
       "      <td>38.751628</td>\n",
       "      <td>125.670725</td>\n",
       "      <td>-2.707880</td>\n",
       "      <td>Normal</td>\n",
       "    </tr>\n",
       "    <tr>\n",
       "      <th>308</th>\n",
       "      <td>45.252792</td>\n",
       "      <td>8.693157</td>\n",
       "      <td>41.583126</td>\n",
       "      <td>36.559635</td>\n",
       "      <td>118.545842</td>\n",
       "      <td>0.214750</td>\n",
       "      <td>Normal</td>\n",
       "    </tr>\n",
       "    <tr>\n",
       "      <th>309</th>\n",
       "      <td>33.841641</td>\n",
       "      <td>5.073991</td>\n",
       "      <td>36.641233</td>\n",
       "      <td>28.767649</td>\n",
       "      <td>123.945244</td>\n",
       "      <td>-0.199249</td>\n",
       "      <td>Normal</td>\n",
       "    </tr>\n",
       "  </tbody>\n",
       "</table>\n",
       "<p>310 rows × 7 columns</p>\n",
       "</div>"
      ],
      "text/plain": [
       "     pelvic_incidence  pelvic_tilt numeric  lumbar_lordosis_angle  \\\n",
       "0           63.027818            22.552586              39.609117   \n",
       "1           39.056951            10.060991              25.015378   \n",
       "2           68.832021            22.218482              50.092194   \n",
       "3           69.297008            24.652878              44.311238   \n",
       "4           49.712859             9.652075              28.317406   \n",
       "5           40.250200            13.921907              25.124950   \n",
       "6           53.432928            15.864336              37.165934   \n",
       "7           45.366754            10.755611              29.038349   \n",
       "8           43.790190            13.533753              42.690814   \n",
       "9           36.686353             5.010884              41.948751   \n",
       "10          49.706610            13.040974              31.334500   \n",
       "11          31.232387            17.715819              15.500000   \n",
       "12          48.915551            19.964556              40.263794   \n",
       "13          53.572170            20.460828              33.100000   \n",
       "14          57.300227            24.188885              47.000000   \n",
       "15          44.318907            12.537992              36.098763   \n",
       "16          63.834982            20.362507              54.552434   \n",
       "17          31.276012             3.144669              32.562996   \n",
       "18          38.697912            13.444749              31.000000   \n",
       "19          41.729963            12.254074              30.122586   \n",
       "20          43.922840            14.177959              37.832547   \n",
       "21          54.919443            21.062332              42.200000   \n",
       "22          63.073611            24.413803              54.000000   \n",
       "23          45.540790            13.069598              30.298321   \n",
       "24          36.125683            22.758753              29.000000   \n",
       "25          54.124920            26.650489              35.329747   \n",
       "26          26.147921            10.759454              14.000000   \n",
       "27          43.580964            16.508884              47.000000   \n",
       "28          44.551012            21.931147              26.785916   \n",
       "29          66.879211            24.891999              49.278597   \n",
       "..                ...                  ...                    ...   \n",
       "280         50.086153            13.430044              34.457541   \n",
       "281         64.261507            14.497866              43.902504   \n",
       "282         53.683380            13.447022              41.584297   \n",
       "283         48.995958            13.113820              51.873520   \n",
       "284         59.167612            14.562749              43.199158   \n",
       "285         67.804694            16.550662              43.256802   \n",
       "286         61.734875            17.114312              46.900000   \n",
       "287         33.041688            -0.324678              19.071075   \n",
       "288         74.565015            15.724320              58.618582   \n",
       "289         44.430701            14.174264              32.243495   \n",
       "290         36.422485            13.879424              20.242562   \n",
       "291         51.079833            14.209935              35.951229   \n",
       "292         34.756738             2.631740              29.504381   \n",
       "293         48.902904             5.587589              55.500000   \n",
       "294         46.236399            10.062770              37.000000   \n",
       "295         46.426366             6.620795              48.100000   \n",
       "296         39.656902            16.208839              36.674857   \n",
       "297         45.575482            18.759135              33.774143   \n",
       "298         66.507179            20.897672              31.727471   \n",
       "299         82.905351            29.894119              58.250542   \n",
       "300         50.676677             6.461501              35.000000   \n",
       "301         89.014875            26.075981              69.021259   \n",
       "302         54.600316            21.488974              29.360216   \n",
       "303         34.382299             2.062683              32.390820   \n",
       "304         45.075450            12.306951              44.583177   \n",
       "305         47.903565            13.616688              36.000000   \n",
       "306         53.936748            20.721496              29.220534   \n",
       "307         61.446597            22.694968              46.170347   \n",
       "308         45.252792             8.693157              41.583126   \n",
       "309         33.841641             5.073991              36.641233   \n",
       "\n",
       "     sacral_slope  pelvic_radius  degree_spondylolisthesis     class  \n",
       "0       40.475232      98.672917                 -0.254400  Abnormal  \n",
       "1       28.995960     114.405425                  4.564259  Abnormal  \n",
       "2       46.613539     105.985135                 -3.530317  Abnormal  \n",
       "3       44.644130     101.868495                 11.211523  Abnormal  \n",
       "4       40.060784     108.168725                  7.918501  Abnormal  \n",
       "5       26.328293     130.327871                  2.230652  Abnormal  \n",
       "6       37.568592     120.567523                  5.988551  Abnormal  \n",
       "7       34.611142     117.270068                -10.675871  Abnormal  \n",
       "8       30.256437     125.002893                 13.289018  Abnormal  \n",
       "9       31.675469      84.241415                  0.664437  Abnormal  \n",
       "10      36.665635     108.648265                 -7.825986  Abnormal  \n",
       "11      13.516568     120.055399                  0.499751  Abnormal  \n",
       "12      28.950995     119.321358                  8.028895  Abnormal  \n",
       "13      33.111342     110.966698                  7.044803  Abnormal  \n",
       "14      33.111342     116.806587                  5.766947  Abnormal  \n",
       "15      31.780915     124.115836                  5.415825  Abnormal  \n",
       "16      43.472475     112.309492                 -0.622527  Abnormal  \n",
       "17      28.131342     129.011418                  3.623020  Abnormal  \n",
       "18      25.253163     123.159251                  1.429186  Abnormal  \n",
       "19      29.475889     116.585706                 -1.244402  Abnormal  \n",
       "20      29.744881     134.461016                  6.451648  Abnormal  \n",
       "21      33.857110     125.212716                  2.432561  Abnormal  \n",
       "22      38.659808     106.424329                 15.779697  Abnormal  \n",
       "23      32.471192     117.980830                 -4.987130  Abnormal  \n",
       "24      13.366931     115.577116                 -3.237562  Abnormal  \n",
       "25      27.474432     121.447011                  1.571205  Abnormal  \n",
       "26      15.388468     125.203296                -10.093108  Abnormal  \n",
       "27      27.072080     109.271634                  8.992816  Abnormal  \n",
       "28      22.619865     111.072920                  2.652321  Abnormal  \n",
       "29      41.987212     113.477018                 -2.005892  Abnormal  \n",
       "..            ...            ...                       ...       ...  \n",
       "280     36.656108     119.134622                  3.089484    Normal  \n",
       "281     49.763642     115.388268                  5.951454    Normal  \n",
       "282     40.236358     113.913703                  2.737035    Normal  \n",
       "283     35.882137     126.398188                  0.535472    Normal  \n",
       "284     44.604863     121.035642                  2.830504    Normal  \n",
       "285     51.254033     119.685645                  4.867540    Normal  \n",
       "286     44.620563     120.920200                  3.087726    Normal  \n",
       "287     33.366366     120.388611                  9.354365    Normal  \n",
       "288     58.840695     105.417304                  0.599247    Normal  \n",
       "289     30.256437     131.717613                 -3.604255    Normal  \n",
       "290     22.543061     126.076861                  0.179717    Normal  \n",
       "291     36.869898     115.803711                  6.905090    Normal  \n",
       "292     32.124998     127.139850                 -0.460894    Normal  \n",
       "293     43.315316     137.108289                 19.854759    Normal  \n",
       "294     36.173629     128.063620                 -5.100053    Normal  \n",
       "295     39.805571     130.350096                  2.449382    Normal  \n",
       "296     23.448063     131.922009                 -4.968980    Normal  \n",
       "297     26.816347     116.797007                  3.131910    Normal  \n",
       "298     45.609507     128.902905                  1.517203    Normal  \n",
       "299     53.011232     110.708958                  6.079338    Normal  \n",
       "300     44.215175     116.587970                 -0.214711    Normal  \n",
       "301     62.938894     111.481075                  6.061508    Normal  \n",
       "302     33.111342     118.343321                 -1.471067    Normal  \n",
       "303     32.319617     128.300199                 -3.365516    Normal  \n",
       "304     32.768499     147.894637                 -8.941709    Normal  \n",
       "305     34.286877     117.449062                 -4.245395    Normal  \n",
       "306     33.215251     114.365845                 -0.421010    Normal  \n",
       "307     38.751628     125.670725                 -2.707880    Normal  \n",
       "308     36.559635     118.545842                  0.214750    Normal  \n",
       "309     28.767649     123.945244                 -0.199249    Normal  \n",
       "\n",
       "[310 rows x 7 columns]"
      ]
     },
     "execution_count": 2,
     "metadata": {},
     "output_type": "execute_result"
    }
   ],
   "source": [
    "df = pd.read_csv('ML_1.csv')\n",
    "df"
   ]
  },
  {
   "cell_type": "code",
   "execution_count": 39,
   "metadata": {
    "colab": {
     "base_uri": "https://localhost:8080/",
     "height": 70
    },
    "colab_type": "code",
    "id": "I-nyFoaH5f5G",
    "outputId": "3efe350a-e736-410a-8512-0bc6cddc7692"
   },
   "outputs": [
    {
     "data": {
      "text/plain": [
       "Index(['pelvic_incidence', 'pelvic_tilt numeric', 'lumbar_lordosis_angle',\n",
       "       'sacral_slope', 'pelvic_radius', 'degree_spondylolisthesis', 'class'],\n",
       "      dtype='object')"
      ]
     },
     "execution_count": 39,
     "metadata": {},
     "output_type": "execute_result"
    }
   ],
   "source": [
    "df.keys()"
   ]
  },
  {
   "cell_type": "code",
   "execution_count": 40,
   "metadata": {
    "colab": {
     "base_uri": "https://localhost:8080/",
     "height": 351
    },
    "colab_type": "code",
    "id": "fjBu6yWn5Itm",
    "outputId": "74c0e2de-8c8a-48b0-9fc4-b8c6e30da2c3"
   },
   "outputs": [
    {
     "name": "stdout",
     "output_type": "stream",
     "text": [
      "<class 'pandas.core.frame.DataFrame'>\n",
      "RangeIndex: 310 entries, 0 to 309\n",
      "Data columns (total 7 columns):\n",
      "pelvic_incidence            310 non-null float64\n",
      "pelvic_tilt numeric         310 non-null float64\n",
      "lumbar_lordosis_angle       310 non-null float64\n",
      "sacral_slope                310 non-null float64\n",
      "pelvic_radius               310 non-null float64\n",
      "degree_spondylolisthesis    310 non-null float64\n",
      "class                       310 non-null object\n",
      "dtypes: float64(6), object(1)\n",
      "memory usage: 17.0+ KB\n"
     ]
    }
   ],
   "source": [
    "df.info()"
   ]
  },
  {
   "cell_type": "code",
   "execution_count": 41,
   "metadata": {
    "colab": {
     "base_uri": "https://localhost:8080/",
     "height": 281
    },
    "colab_type": "code",
    "id": "p-Ezp6555SBu",
    "outputId": "2820043e-e5f7-45dc-ac17-2bfd383db7f5"
   },
   "outputs": [
    {
     "data": {
      "text/plain": [
       "pelvic_incidence            0\n",
       "pelvic_tilt numeric         0\n",
       "lumbar_lordosis_angle       0\n",
       "sacral_slope                0\n",
       "pelvic_radius               0\n",
       "degree_spondylolisthesis    0\n",
       "class                       0\n",
       "dtype: int64"
      ]
     },
     "execution_count": 41,
     "metadata": {},
     "output_type": "execute_result"
    }
   ],
   "source": [
    "df.isnull().sum()"
   ]
  },
  {
   "cell_type": "code",
   "execution_count": 42,
   "metadata": {
    "colab": {
     "base_uri": "https://localhost:8080/",
     "height": 284
    },
    "colab_type": "code",
    "id": "bATj4FS66VRp",
    "outputId": "64f80d96-1d59-4099-a5f2-c9a61f3dbea8"
   },
   "outputs": [
    {
     "data": {
      "text/html": [
       "<div>\n",
       "<style scoped>\n",
       "    .dataframe tbody tr th:only-of-type {\n",
       "        vertical-align: middle;\n",
       "    }\n",
       "\n",
       "    .dataframe tbody tr th {\n",
       "        vertical-align: top;\n",
       "    }\n",
       "\n",
       "    .dataframe thead th {\n",
       "        text-align: right;\n",
       "    }\n",
       "</style>\n",
       "<table border=\"1\" class=\"dataframe\">\n",
       "  <thead>\n",
       "    <tr style=\"text-align: right;\">\n",
       "      <th></th>\n",
       "      <th>pelvic_incidence</th>\n",
       "      <th>pelvic_tilt numeric</th>\n",
       "      <th>lumbar_lordosis_angle</th>\n",
       "      <th>sacral_slope</th>\n",
       "      <th>pelvic_radius</th>\n",
       "      <th>degree_spondylolisthesis</th>\n",
       "    </tr>\n",
       "  </thead>\n",
       "  <tbody>\n",
       "    <tr>\n",
       "      <th>count</th>\n",
       "      <td>310.000000</td>\n",
       "      <td>310.000000</td>\n",
       "      <td>310.000000</td>\n",
       "      <td>310.000000</td>\n",
       "      <td>310.000000</td>\n",
       "      <td>310.000000</td>\n",
       "    </tr>\n",
       "    <tr>\n",
       "      <th>mean</th>\n",
       "      <td>60.496653</td>\n",
       "      <td>17.542822</td>\n",
       "      <td>51.930930</td>\n",
       "      <td>42.953831</td>\n",
       "      <td>117.920655</td>\n",
       "      <td>26.296694</td>\n",
       "    </tr>\n",
       "    <tr>\n",
       "      <th>std</th>\n",
       "      <td>17.236520</td>\n",
       "      <td>10.008330</td>\n",
       "      <td>18.554064</td>\n",
       "      <td>13.423102</td>\n",
       "      <td>13.317377</td>\n",
       "      <td>37.559027</td>\n",
       "    </tr>\n",
       "    <tr>\n",
       "      <th>min</th>\n",
       "      <td>26.147921</td>\n",
       "      <td>-6.554948</td>\n",
       "      <td>14.000000</td>\n",
       "      <td>13.366931</td>\n",
       "      <td>70.082575</td>\n",
       "      <td>-11.058179</td>\n",
       "    </tr>\n",
       "    <tr>\n",
       "      <th>25%</th>\n",
       "      <td>46.430294</td>\n",
       "      <td>10.667069</td>\n",
       "      <td>37.000000</td>\n",
       "      <td>33.347122</td>\n",
       "      <td>110.709196</td>\n",
       "      <td>1.603727</td>\n",
       "    </tr>\n",
       "    <tr>\n",
       "      <th>50%</th>\n",
       "      <td>58.691038</td>\n",
       "      <td>16.357689</td>\n",
       "      <td>49.562398</td>\n",
       "      <td>42.404912</td>\n",
       "      <td>118.268178</td>\n",
       "      <td>11.767934</td>\n",
       "    </tr>\n",
       "    <tr>\n",
       "      <th>75%</th>\n",
       "      <td>72.877696</td>\n",
       "      <td>22.120395</td>\n",
       "      <td>63.000000</td>\n",
       "      <td>52.695888</td>\n",
       "      <td>125.467674</td>\n",
       "      <td>41.287352</td>\n",
       "    </tr>\n",
       "    <tr>\n",
       "      <th>max</th>\n",
       "      <td>129.834041</td>\n",
       "      <td>49.431864</td>\n",
       "      <td>125.742385</td>\n",
       "      <td>121.429566</td>\n",
       "      <td>163.071041</td>\n",
       "      <td>418.543082</td>\n",
       "    </tr>\n",
       "  </tbody>\n",
       "</table>\n",
       "</div>"
      ],
      "text/plain": [
       "       pelvic_incidence  pelvic_tilt numeric  lumbar_lordosis_angle  \\\n",
       "count        310.000000           310.000000             310.000000   \n",
       "mean          60.496653            17.542822              51.930930   \n",
       "std           17.236520            10.008330              18.554064   \n",
       "min           26.147921            -6.554948              14.000000   \n",
       "25%           46.430294            10.667069              37.000000   \n",
       "50%           58.691038            16.357689              49.562398   \n",
       "75%           72.877696            22.120395              63.000000   \n",
       "max          129.834041            49.431864             125.742385   \n",
       "\n",
       "       sacral_slope  pelvic_radius  degree_spondylolisthesis  \n",
       "count    310.000000     310.000000                310.000000  \n",
       "mean      42.953831     117.920655                 26.296694  \n",
       "std       13.423102      13.317377                 37.559027  \n",
       "min       13.366931      70.082575                -11.058179  \n",
       "25%       33.347122     110.709196                  1.603727  \n",
       "50%       42.404912     118.268178                 11.767934  \n",
       "75%       52.695888     125.467674                 41.287352  \n",
       "max      121.429566     163.071041                418.543082  "
      ]
     },
     "execution_count": 42,
     "metadata": {},
     "output_type": "execute_result"
    }
   ],
   "source": [
    "df.describe()"
   ]
  },
  {
   "cell_type": "code",
   "execution_count": 43,
   "metadata": {
    "colab": {},
    "colab_type": "code",
    "id": "DFoY5d-xGwji"
   },
   "outputs": [],
   "source": [
    "X= df.drop('class',axis=1)\n",
    "y=df['class']"
   ]
  },
  {
   "cell_type": "code",
   "execution_count": 44,
   "metadata": {
    "colab": {
     "base_uri": "https://localhost:8080/",
     "height": 34
    },
    "colab_type": "code",
    "id": "yPHzQ3pO5y0d",
    "outputId": "0e03d08a-8095-4f51-beac-12fdc6a466ec"
   },
   "outputs": [
    {
     "data": {
      "text/plain": [
       "(310, 6)"
      ]
     },
     "execution_count": 44,
     "metadata": {},
     "output_type": "execute_result"
    }
   ],
   "source": [
    "X.shape"
   ]
  },
  {
   "cell_type": "code",
   "execution_count": 45,
   "metadata": {
    "colab": {
     "base_uri": "https://localhost:8080/",
     "height": 34
    },
    "colab_type": "code",
    "id": "-OjDjfs752Vo",
    "outputId": "1aae7ca6-414c-4363-c6f6-ec315a3c95df"
   },
   "outputs": [
    {
     "data": {
      "text/plain": [
       "(310,)"
      ]
     },
     "execution_count": 45,
     "metadata": {},
     "output_type": "execute_result"
    }
   ],
   "source": [
    "y.shape"
   ]
  },
  {
   "cell_type": "code",
   "execution_count": 46,
   "metadata": {
    "colab": {},
    "colab_type": "code",
    "id": "iZPwId_wHdgZ"
   },
   "outputs": [],
   "source": [
    "from sklearn.model_selection import train_test_split\n",
    "X_train,X_test,y_train,y_test = train_test_split(X,y,test_size=.3,random_state=5)"
   ]
  },
  {
   "cell_type": "code",
   "execution_count": 47,
   "metadata": {
    "colab": {
     "base_uri": "https://localhost:8080/",
     "height": 34
    },
    "colab_type": "code",
    "id": "sp6iOPTn59DJ",
    "outputId": "4606099b-c195-4617-8e85-55b22eca7537"
   },
   "outputs": [
    {
     "data": {
      "text/plain": [
       "(217, 6)"
      ]
     },
     "execution_count": 47,
     "metadata": {},
     "output_type": "execute_result"
    }
   ],
   "source": [
    "X_train.shape"
   ]
  },
  {
   "cell_type": "code",
   "execution_count": 48,
   "metadata": {
    "colab": {
     "base_uri": "https://localhost:8080/",
     "height": 34
    },
    "colab_type": "code",
    "id": "B-ACAkXv6CbQ",
    "outputId": "a8311302-841a-429f-f621-ae85db7f6431"
   },
   "outputs": [
    {
     "data": {
      "text/plain": [
       "(93, 6)"
      ]
     },
     "execution_count": 48,
     "metadata": {},
     "output_type": "execute_result"
    }
   ],
   "source": [
    "X_test.shape"
   ]
  },
  {
   "cell_type": "code",
   "execution_count": 49,
   "metadata": {
    "colab": {
     "base_uri": "https://localhost:8080/",
     "height": 34
    },
    "colab_type": "code",
    "id": "D-u__Zkg6FfG",
    "outputId": "53e6dc40-864c-48f7-82cf-c007804fa14a"
   },
   "outputs": [
    {
     "data": {
      "text/plain": [
       "(217,)"
      ]
     },
     "execution_count": 49,
     "metadata": {},
     "output_type": "execute_result"
    }
   ],
   "source": [
    "y_train.shape"
   ]
  },
  {
   "cell_type": "code",
   "execution_count": 50,
   "metadata": {
    "colab": {
     "base_uri": "https://localhost:8080/",
     "height": 34
    },
    "colab_type": "code",
    "id": "Jtc4cMrn6Icb",
    "outputId": "f8a964d3-c776-43d3-d8b9-96967575585b"
   },
   "outputs": [
    {
     "data": {
      "text/plain": [
       "(93,)"
      ]
     },
     "execution_count": 50,
     "metadata": {},
     "output_type": "execute_result"
    }
   ],
   "source": [
    "y_test.shape"
   ]
  },
  {
   "cell_type": "markdown",
   "metadata": {
    "colab_type": "text",
    "id": "DS_SxyP7B9zO"
   },
   "source": [
    "Logistic Regression"
   ]
  },
  {
   "cell_type": "code",
   "execution_count": 51,
   "metadata": {
    "colab": {},
    "colab_type": "code",
    "id": "pmK-lAscBybj"
   },
   "outputs": [],
   "source": [
    "from sklearn.linear_model import LogisticRegression"
   ]
  },
  {
   "cell_type": "code",
   "execution_count": 52,
   "metadata": {
    "colab": {
     "base_uri": "https://localhost:8080/",
     "height": 72
    },
    "colab_type": "code",
    "id": "-W2nH8DCBvqB",
    "outputId": "278ecd33-f4c7-4bc3-a8a2-27c8b4f85483"
   },
   "outputs": [
    {
     "name": "stderr",
     "output_type": "stream",
     "text": [
      "C:\\Users\\RANVEER\\Anaconda3\\lib\\site-packages\\sklearn\\linear_model\\logistic.py:432: FutureWarning: Default solver will be changed to 'lbfgs' in 0.22. Specify a solver to silence this warning.\n",
      "  FutureWarning)\n"
     ]
    }
   ],
   "source": [
    "model1 = LogisticRegression()\n",
    "Lrmodel=model1.fit(X_train,y_train)\n",
    "yp1=model1.predict(X_test)\n",
    " "
   ]
  },
  {
   "cell_type": "code",
   "execution_count": 53,
   "metadata": {
    "colab": {
     "base_uri": "https://localhost:8080/",
     "height": 34
    },
    "colab_type": "code",
    "id": "n7h0gNEV1VwJ",
    "outputId": "566899e4-aa5a-448c-d2d8-74c2e779caca"
   },
   "outputs": [
    {
     "name": "stdout",
     "output_type": "stream",
     "text": [
      "0.8494623655913979\n"
     ]
    }
   ],
   "source": [
    "logistic_acc=accuracy_score(y_test,yp1)\n",
    "print(logistic_acc)"
   ]
  },
  {
   "cell_type": "code",
   "execution_count": 54,
   "metadata": {
    "colab": {
     "base_uri": "https://localhost:8080/",
     "height": 52
    },
    "colab_type": "code",
    "id": "8O771h-N2kuH",
    "outputId": "67f5692f-9322-4e50-df30-9971b9b9a4ad"
   },
   "outputs": [
    {
     "name": "stdout",
     "output_type": "stream",
     "text": [
      "Confusion matrix\n",
      " [[57  3]\n",
      " [11 22]]\n"
     ]
    }
   ],
   "source": [
    "print(\"Confusion matrix\\n\",confusion_matrix(y_test,yp1))"
   ]
  },
  {
   "cell_type": "code",
   "execution_count": 55,
   "metadata": {
    "colab": {
     "base_uri": "https://localhost:8080/",
     "height": 175
    },
    "colab_type": "code",
    "id": "WzaUiXbt2wZe",
    "outputId": "fb8c936d-c1a1-467e-d4ea-29d1e675ee62"
   },
   "outputs": [
    {
     "name": "stdout",
     "output_type": "stream",
     "text": [
      "Classification Report\n",
      "               precision    recall  f1-score   support\n",
      "\n",
      "    Abnormal       0.84      0.95      0.89        60\n",
      "      Normal       0.88      0.67      0.76        33\n",
      "\n",
      "    accuracy                           0.85        93\n",
      "   macro avg       0.86      0.81      0.82        93\n",
      "weighted avg       0.85      0.85      0.84        93\n",
      "\n"
     ]
    }
   ],
   "source": [
    "print(\"Classification Report\\n\",classification_report(y_test,yp1))"
   ]
  },
  {
   "cell_type": "markdown",
   "metadata": {
    "colab_type": "text",
    "id": "j_P1GhYBJBVX"
   },
   "source": [
    "SVM"
   ]
  },
  {
   "cell_type": "code",
   "execution_count": 56,
   "metadata": {
    "colab": {},
    "colab_type": "code",
    "id": "hxEf2LRHI-HK"
   },
   "outputs": [],
   "source": [
    "from sklearn import svm"
   ]
  },
  {
   "cell_type": "code",
   "execution_count": 57,
   "metadata": {
    "colab": {},
    "colab_type": "code",
    "id": "clnqJVivI7qV"
   },
   "outputs": [],
   "source": [
    "svm_clf = svm.SVC(kernel='linear') \n",
    "svm_clf.fit(X_train, y_train)\n",
    "y_pred = svm_clf.predict(X_test)"
   ]
  },
  {
   "cell_type": "code",
   "execution_count": 58,
   "metadata": {
    "colab": {
     "base_uri": "https://localhost:8080/",
     "height": 34
    },
    "colab_type": "code",
    "id": "-VwmlL8j3JUb",
    "outputId": "4247b7e1-4397-45e3-f674-4cb49cac86bc"
   },
   "outputs": [
    {
     "name": "stdout",
     "output_type": "stream",
     "text": [
      "0.8494623655913979\n"
     ]
    }
   ],
   "source": [
    "svm_acc=svm_clf.score(X_test,y_test)\n",
    "print(svm_acc)"
   ]
  },
  {
   "cell_type": "markdown",
   "metadata": {
    "colab_type": "text",
    "id": "ucKAoP8I_ESL"
   },
   "source": [
    "KNN"
   ]
  },
  {
   "cell_type": "code",
   "execution_count": null,
   "metadata": {
    "colab": {},
    "colab_type": "code",
    "id": "Qy7iRwADG5mZ"
   },
   "outputs": [],
   "source": []
  },
  {
   "cell_type": "code",
   "execution_count": 59,
   "metadata": {
    "colab": {},
    "colab_type": "code",
    "id": "EUeWg-RyHDpP"
   },
   "outputs": [],
   "source": [
    "from sklearn.neighbors import KNeighborsClassifier\n",
    " "
   ]
  },
  {
   "cell_type": "code",
   "execution_count": 60,
   "metadata": {
    "colab": {},
    "colab_type": "code",
    "id": "DPUWpV9JHsCF"
   },
   "outputs": [],
   "source": [
    "model2=KNeighborsClassifier(n_neighbors=50)\n",
    "knn=model2.fit(X_train,y_train)\n",
    "yp2=model2.predict(X_test)"
   ]
  },
  {
   "cell_type": "code",
   "execution_count": 61,
   "metadata": {
    "colab": {
     "base_uri": "https://localhost:8080/",
     "height": 34
    },
    "colab_type": "code",
    "id": "nLxyVL1x3-zA",
    "outputId": "a080837a-624f-461c-c9b0-55c7f57ccaac"
   },
   "outputs": [
    {
     "name": "stdout",
     "output_type": "stream",
     "text": [
      "0.8279569892473119\n"
     ]
    }
   ],
   "source": [
    "knn_acc=accuracy_score(y_test,yp2)\n",
    "print(knn_acc)"
   ]
  },
  {
   "cell_type": "code",
   "execution_count": 62,
   "metadata": {
    "colab": {
     "base_uri": "https://localhost:8080/",
     "height": 52
    },
    "colab_type": "code",
    "id": "dKBEa5No4Brj",
    "outputId": "029fec60-71b1-4ee9-9d99-7d27b6f525c9"
   },
   "outputs": [
    {
     "name": "stdout",
     "output_type": "stream",
     "text": [
      "Confusion matrix [[48 12]\n",
      " [ 4 29]]\n"
     ]
    }
   ],
   "source": [
    "print(\"Confusion matrix\",confusion_matrix(y_test,yp2))"
   ]
  },
  {
   "cell_type": "code",
   "execution_count": 63,
   "metadata": {
    "colab": {
     "base_uri": "https://localhost:8080/",
     "height": 175
    },
    "colab_type": "code",
    "id": "VChRdFaE4OKN",
    "outputId": "e8cf8fb7-f64e-4831-ba19-609a009cbd77"
   },
   "outputs": [
    {
     "name": "stdout",
     "output_type": "stream",
     "text": [
      "Classification Report               precision    recall  f1-score   support\n",
      "\n",
      "    Abnormal       0.92      0.80      0.86        60\n",
      "      Normal       0.71      0.88      0.78        33\n",
      "\n",
      "    accuracy                           0.83        93\n",
      "   macro avg       0.82      0.84      0.82        93\n",
      "weighted avg       0.85      0.83      0.83        93\n",
      "\n"
     ]
    }
   ],
   "source": [
    "print(\"Classification Report\",classification_report(y_test,yp2))"
   ]
  },
  {
   "cell_type": "markdown",
   "metadata": {
    "colab_type": "text",
    "id": "jWlrDwVBM1JU"
   },
   "source": [
    "Decision Tree"
   ]
  },
  {
   "cell_type": "code",
   "execution_count": 64,
   "metadata": {
    "colab": {},
    "colab_type": "code",
    "id": "Dj0HlPleCs70"
   },
   "outputs": [],
   "source": [
    "from sklearn.tree import DecisionTreeClassifier\n",
    "model3=DecisionTreeClassifier(criterion='entropy',max_depth=2)\n",
    "dt=model3.fit(X_train,y_train)"
   ]
  },
  {
   "cell_type": "code",
   "execution_count": 65,
   "metadata": {
    "colab": {
     "base_uri": "https://localhost:8080/",
     "height": 371
    },
    "colab_type": "code",
    "id": "nVH9yQqUMoXt",
    "outputId": "1c2e55ce-1bed-47cb-ce8a-94f28bac74ee"
   },
   "outputs": [
    {
     "data": {
      "text/plain": [
       "[Text(167.4, 181.2, 'X[5] <= 20.085\\nentropy = 0.892\\nsamples = 217\\nvalue = [150, 67]'),\n",
       " Text(83.7, 108.72, 'X[4] <= 118.066\\nentropy = 0.981\\nsamples = 112\\nvalue = [47, 65]'),\n",
       " Text(41.85, 36.23999999999998, 'entropy = 0.918\\nsamples = 45\\nvalue = [30, 15]'),\n",
       " Text(125.55000000000001, 36.23999999999998, 'entropy = 0.817\\nsamples = 67\\nvalue = [17, 50]'),\n",
       " Text(251.10000000000002, 108.72, 'X[5] <= 31.25\\nentropy = 0.136\\nsamples = 105\\nvalue = [103, 2]'),\n",
       " Text(209.25, 36.23999999999998, 'entropy = 0.439\\nsamples = 22\\nvalue = [20, 2]'),\n",
       " Text(292.95, 36.23999999999998, 'entropy = 0.0\\nsamples = 83\\nvalue = [83, 0]')]"
      ]
     },
     "execution_count": 65,
     "metadata": {},
     "output_type": "execute_result"
    },
    {
     "data": {
      "image/png": "[encoded data removed]",
      "text/plain": [
       "<Figure size 432x288 with 1 Axes>"
      ]
     },
     "metadata": {
      "needs_background": "light"
     },
     "output_type": "display_data"
    }
   ],
   "source": [
    "from sklearn import tree\n",
    "tree.plot_tree(model3)"
   ]
  },
  {
   "cell_type": "code",
   "execution_count": 66,
   "metadata": {
    "colab": {},
    "colab_type": "code",
    "id": "Y346uOFaMvQ3"
   },
   "outputs": [],
   "source": [
    "yp3=dt.predict(X_test)"
   ]
  },
  {
   "cell_type": "code",
   "execution_count": 67,
   "metadata": {
    "colab": {
     "base_uri": "https://localhost:8080/",
     "height": 34
    },
    "colab_type": "code",
    "id": "AuEgseTR4cGH",
    "outputId": "689a0bdc-8211-4c07-81a0-0cc013cc1cb9"
   },
   "outputs": [],
   "source": [
    "dt_acc=accuracy_score(y_test,yp3)"
   ]
  },
  {
   "cell_type": "code",
   "execution_count": 68,
   "metadata": {
    "colab": {
     "base_uri": "https://localhost:8080/",
     "height": 52
    },
    "colab_type": "code",
    "id": "VOvLSh2c4fhX",
    "outputId": "036d8816-eb15-4c88-d5d9-e65e790a9502"
   },
   "outputs": [
    {
     "name": "stdout",
     "output_type": "stream",
     "text": [
      "Confusion matrix [[50 10]\n",
      " [ 8 25]]\n"
     ]
    }
   ],
   "source": [
    "print(\"Confusion matrix\",confusion_matrix(y_test,yp3))"
   ]
  },
  {
   "cell_type": "code",
   "execution_count": 69,
   "metadata": {
    "colab": {
     "base_uri": "https://localhost:8080/",
     "height": 175
    },
    "colab_type": "code",
    "id": "Xsk92fto4aB0",
    "outputId": "3527ab60-2d8a-4359-f31c-529f948b4e24"
   },
   "outputs": [
    {
     "name": "stdout",
     "output_type": "stream",
     "text": [
      "Classification Report\n",
      "               precision    recall  f1-score   support\n",
      "\n",
      "    Abnormal       0.86      0.83      0.85        60\n",
      "      Normal       0.71      0.76      0.74        33\n",
      "\n",
      "    accuracy                           0.81        93\n",
      "   macro avg       0.79      0.80      0.79        93\n",
      "weighted avg       0.81      0.81      0.81        93\n",
      "\n"
     ]
    }
   ],
   "source": [
    "print(\"Classification Report\\n\",classification_report(y_test,yp3))"
   ]
  },
  {
   "cell_type": "code",
   "execution_count": 70,
   "metadata": {
    "colab": {},
    "colab_type": "code",
    "id": "r7FYny7vbLxo"
   },
   "outputs": [
    {
     "data": {
      "image/png": "[encoded data removed]",
      "text/plain": [
       "<Figure size 432x288 with 1 Axes>"
      ]
     },
     "metadata": {
      "needs_background": "light"
     },
     "output_type": "display_data"
    }
   ],
   "source": [
    "plt.bar([1,2,3,4],[logistic_acc,svm_acc,knn_acc,dt_acc],width=0.5,tick_label=['LR=0.8494','SVM=0.8494','KNN=0.8279','DT=0.81'],color=['red','blue','green','yellow'])\n",
    "plt.xlabel('classifiers')\n",
    "plt.ylabel('performance analysis')\n",
    "plt.show()"
   ]
  },
  {
   "cell_type": "code",
   "execution_count": null,
   "metadata": {},
   "outputs": [],
   "source": []
  },
  {
   "cell_type": "code",
   "execution_count": null,
   "metadata": {},
   "outputs": [],
   "source": []
  }
 ],
 "metadata": {
  "colab": {
   "collapsed_sections": [],
   "name": "mlProj.ipynb",
   "provenance": []
  },
  "kernelspec": {
   "display_name": "Python 3",
   "language": "python",
   "name": "python3"
  },
  "language_info": {
   "codemirror_mode": {
    "name": "ipython",
    "version": 3
   },
   "file_extension": ".py",
   "mimetype": "text/x-python",
   "name": "python",
   "nbconvert_exporter": "python",
   "pygments_lexer": "ipython3",
   "version": "3.7.3"
  }
 },
 "nbformat": 4,
 "nbformat_minor": 1
}
